{
 "cells": [
  {
   "cell_type": "markdown",
   "id": "d7c2d29b",
   "metadata": {
    "slideshow": {
     "slide_type": "slide"
    }
   },
   "source": [
    "# Optimisation de la gestion des données de la boutique BottleNeck"
   ]
  },
  {
   "cell_type": "markdown",
   "id": "c409814f",
   "metadata": {
    "slideshow": {
     "slide_type": "skip"
    }
   },
   "source": [
    "# Sommaire\n",
    "\n",
    "* [1. Importation des données](#1)\n",
    "* [2. Nettoyage des données](#2)\n",
    "    * [2.1. Erreurs de type et valeurs manquantes](#2_1)\n",
    "    * [2.2. Doublons](#2_2)\n",
    "        * [2.2.1. Dataframe 'erp'](#2_2_1)\n",
    "        * [2.2.2. Dataframe 'données_web'](#2_2_2)\n",
    "        * [2.2.3. Dataframe 'liaison'](#2_2_3)\n",
    "* [3. Rapprochement des deux exports 'erp' et 'web'](#3)\n",
    "    * [3.1. Jointures pour rapprocher les deux exports](#3_1)\n",
    "        * [3.1.1. Jointures](#3_1_1)\n",
    "        * [3.1.2. Vérification des jointures](#3_1_2)\n",
    "    * [3.2. Calcul du chiffre d'affaires par produit et chiffre d'affaires total](#3_2)\n",
    "* [4. Etude des outliers](#4)\n",
    "    * [4.1. Calcul du Z-score des prix](#4_1)\n",
    "    * [4.2. Calcul de l'écart interquartile des prix](#4_2)\n",
    "    * [4.3. Vérification des outliers](#4_3)\n",
    "* [5. Conclusion](#5)"
   ]
  },
  {
   "cell_type": "markdown",
   "id": "73aeda14",
   "metadata": {
    "slideshow": {
     "slide_type": "slide"
    }
   },
   "source": [
    "## 1. Importation des données <a class=\"anchor\" id=\"1\"></a>"
   ]
  },
  {
   "cell_type": "code",
   "execution_count": 1,
   "id": "cdc2b5cd",
   "metadata": {
    "slideshow": {
     "slide_type": "-"
    }
   },
   "outputs": [],
   "source": [
    "import pandas as pd\n",
    "import numpy as np\n",
    "import matplotlib.pyplot as plt\n",
    "import seaborn as sns"
   ]
  },
  {
   "cell_type": "code",
   "execution_count": 2,
   "id": "b7a54dc9",
   "metadata": {
    "slideshow": {
     "slide_type": "-"
    }
   },
   "outputs": [],
   "source": [
    "import warnings\n",
    "warnings.filterwarnings('ignore', category=UserWarning, module='openpyxl')\n",
    "\n",
    "erp = pd.read_excel('erp.xlsx')\n",
    "liaison = pd.read_excel('liaison.xlsx')\n",
    "web = pd.read_excel('web.xlsx')"
   ]
  },
  {
   "cell_type": "code",
   "execution_count": 3,
   "id": "2ac676d5",
   "metadata": {
    "slideshow": {
     "slide_type": "subslide"
    }
   },
   "outputs": [
    {
     "data": {
      "text/html": [
       "<div>\n",
       "<style scoped>\n",
       "    .dataframe tbody tr th:only-of-type {\n",
       "        vertical-align: middle;\n",
       "    }\n",
       "\n",
       "    .dataframe tbody tr th {\n",
       "        vertical-align: top;\n",
       "    }\n",
       "\n",
       "    .dataframe thead th {\n",
       "        text-align: right;\n",
       "    }\n",
       "</style>\n",
       "<table border=\"1\" class=\"dataframe\">\n",
       "  <thead>\n",
       "    <tr style=\"text-align: right;\">\n",
       "      <th></th>\n",
       "      <th>product_id</th>\n",
       "      <th>onsale_web</th>\n",
       "      <th>price</th>\n",
       "      <th>stock_quantity</th>\n",
       "      <th>stock_status</th>\n",
       "    </tr>\n",
       "  </thead>\n",
       "  <tbody>\n",
       "    <tr>\n",
       "      <th>0</th>\n",
       "      <td>3847</td>\n",
       "      <td>1</td>\n",
       "      <td>24.2</td>\n",
       "      <td>0</td>\n",
       "      <td>outofstock</td>\n",
       "    </tr>\n",
       "    <tr>\n",
       "      <th>1</th>\n",
       "      <td>3849</td>\n",
       "      <td>1</td>\n",
       "      <td>34.3</td>\n",
       "      <td>0</td>\n",
       "      <td>outofstock</td>\n",
       "    </tr>\n",
       "    <tr>\n",
       "      <th>2</th>\n",
       "      <td>3850</td>\n",
       "      <td>1</td>\n",
       "      <td>20.8</td>\n",
       "      <td>0</td>\n",
       "      <td>outofstock</td>\n",
       "    </tr>\n",
       "    <tr>\n",
       "      <th>3</th>\n",
       "      <td>4032</td>\n",
       "      <td>1</td>\n",
       "      <td>14.1</td>\n",
       "      <td>0</td>\n",
       "      <td>outofstock</td>\n",
       "    </tr>\n",
       "    <tr>\n",
       "      <th>4</th>\n",
       "      <td>4039</td>\n",
       "      <td>1</td>\n",
       "      <td>46.0</td>\n",
       "      <td>0</td>\n",
       "      <td>outofstock</td>\n",
       "    </tr>\n",
       "  </tbody>\n",
       "</table>\n",
       "</div>"
      ],
      "text/plain": [
       "   product_id  onsale_web  price  stock_quantity stock_status\n",
       "0        3847           1   24.2               0   outofstock\n",
       "1        3849           1   34.3               0   outofstock\n",
       "2        3850           1   20.8               0   outofstock\n",
       "3        4032           1   14.1               0   outofstock\n",
       "4        4039           1   46.0               0   outofstock"
      ]
     },
     "execution_count": 3,
     "metadata": {},
     "output_type": "execute_result"
    }
   ],
   "source": [
    "erp.head()"
   ]
  },
  {
   "cell_type": "code",
   "execution_count": 4,
   "id": "85c695a7",
   "metadata": {
    "slideshow": {
     "slide_type": "skip"
    }
   },
   "outputs": [
    {
     "data": {
      "text/html": [
       "<div>\n",
       "<style scoped>\n",
       "    .dataframe tbody tr th:only-of-type {\n",
       "        vertical-align: middle;\n",
       "    }\n",
       "\n",
       "    .dataframe tbody tr th {\n",
       "        vertical-align: top;\n",
       "    }\n",
       "\n",
       "    .dataframe thead th {\n",
       "        text-align: right;\n",
       "    }\n",
       "</style>\n",
       "<table border=\"1\" class=\"dataframe\">\n",
       "  <thead>\n",
       "    <tr style=\"text-align: right;\">\n",
       "      <th></th>\n",
       "      <th>product_id</th>\n",
       "      <th>id_web</th>\n",
       "    </tr>\n",
       "  </thead>\n",
       "  <tbody>\n",
       "    <tr>\n",
       "      <th>0</th>\n",
       "      <td>3847</td>\n",
       "      <td>15298</td>\n",
       "    </tr>\n",
       "    <tr>\n",
       "      <th>1</th>\n",
       "      <td>3849</td>\n",
       "      <td>15296</td>\n",
       "    </tr>\n",
       "    <tr>\n",
       "      <th>2</th>\n",
       "      <td>3850</td>\n",
       "      <td>15300</td>\n",
       "    </tr>\n",
       "    <tr>\n",
       "      <th>3</th>\n",
       "      <td>4032</td>\n",
       "      <td>19814</td>\n",
       "    </tr>\n",
       "    <tr>\n",
       "      <th>4</th>\n",
       "      <td>4039</td>\n",
       "      <td>19815</td>\n",
       "    </tr>\n",
       "  </tbody>\n",
       "</table>\n",
       "</div>"
      ],
      "text/plain": [
       "   product_id id_web\n",
       "0        3847  15298\n",
       "1        3849  15296\n",
       "2        3850  15300\n",
       "3        4032  19814\n",
       "4        4039  19815"
      ]
     },
     "execution_count": 4,
     "metadata": {},
     "output_type": "execute_result"
    }
   ],
   "source": [
    "liaison.head()"
   ]
  },
  {
   "cell_type": "code",
   "execution_count": 5,
   "id": "b0f20b1e",
   "metadata": {
    "slideshow": {
     "slide_type": "skip"
    }
   },
   "outputs": [
    {
     "data": {
      "text/html": [
       "<div>\n",
       "<style scoped>\n",
       "    .dataframe tbody tr th:only-of-type {\n",
       "        vertical-align: middle;\n",
       "    }\n",
       "\n",
       "    .dataframe tbody tr th {\n",
       "        vertical-align: top;\n",
       "    }\n",
       "\n",
       "    .dataframe thead th {\n",
       "        text-align: right;\n",
       "    }\n",
       "</style>\n",
       "<table border=\"1\" class=\"dataframe\">\n",
       "  <thead>\n",
       "    <tr style=\"text-align: right;\">\n",
       "      <th></th>\n",
       "      <th>sku</th>\n",
       "      <th>virtual</th>\n",
       "      <th>downloadable</th>\n",
       "      <th>rating_count</th>\n",
       "      <th>average_rating</th>\n",
       "      <th>total_sales</th>\n",
       "      <th>tax_status</th>\n",
       "      <th>tax_class</th>\n",
       "      <th>post_author</th>\n",
       "      <th>post_date</th>\n",
       "      <th>...</th>\n",
       "      <th>post_name</th>\n",
       "      <th>post_modified</th>\n",
       "      <th>post_modified_gmt</th>\n",
       "      <th>post_content_filtered</th>\n",
       "      <th>post_parent</th>\n",
       "      <th>guid</th>\n",
       "      <th>menu_order</th>\n",
       "      <th>post_type</th>\n",
       "      <th>post_mime_type</th>\n",
       "      <th>comment_count</th>\n",
       "    </tr>\n",
       "  </thead>\n",
       "  <tbody>\n",
       "    <tr>\n",
       "      <th>0</th>\n",
       "      <td>bon-cadeau-25-euros</td>\n",
       "      <td>0</td>\n",
       "      <td>0</td>\n",
       "      <td>0</td>\n",
       "      <td>0.0</td>\n",
       "      <td>10.0</td>\n",
       "      <td>taxable</td>\n",
       "      <td>NaN</td>\n",
       "      <td>1.0</td>\n",
       "      <td>2018-06-01 13:53:46</td>\n",
       "      <td>...</td>\n",
       "      <td>bon-cadeau-de-25-euros</td>\n",
       "      <td>2018-06-01 14:13:57</td>\n",
       "      <td>2018-06-01 12:13:57</td>\n",
       "      <td>NaN</td>\n",
       "      <td>0.0</td>\n",
       "      <td>https://www.bottle-neck.fr/?post_type=product&amp;...</td>\n",
       "      <td>0.0</td>\n",
       "      <td>product</td>\n",
       "      <td>NaN</td>\n",
       "      <td>0.0</td>\n",
       "    </tr>\n",
       "    <tr>\n",
       "      <th>1</th>\n",
       "      <td>15298</td>\n",
       "      <td>0</td>\n",
       "      <td>0</td>\n",
       "      <td>0</td>\n",
       "      <td>0.0</td>\n",
       "      <td>6.0</td>\n",
       "      <td>taxable</td>\n",
       "      <td>NaN</td>\n",
       "      <td>2.0</td>\n",
       "      <td>2018-02-08 12:58:52</td>\n",
       "      <td>...</td>\n",
       "      <td>pierre-jean-villa-saint-joseph-preface-2018</td>\n",
       "      <td>2019-12-30 09:30:29</td>\n",
       "      <td>2019-12-30 08:30:29</td>\n",
       "      <td>NaN</td>\n",
       "      <td>0.0</td>\n",
       "      <td>https://www.bottle-neck.fr/?post_type=product&amp;...</td>\n",
       "      <td>0.0</td>\n",
       "      <td>product</td>\n",
       "      <td>NaN</td>\n",
       "      <td>0.0</td>\n",
       "    </tr>\n",
       "    <tr>\n",
       "      <th>2</th>\n",
       "      <td>15296</td>\n",
       "      <td>0</td>\n",
       "      <td>0</td>\n",
       "      <td>0</td>\n",
       "      <td>0.0</td>\n",
       "      <td>0.0</td>\n",
       "      <td>taxable</td>\n",
       "      <td>NaN</td>\n",
       "      <td>2.0</td>\n",
       "      <td>2018-02-08 13:49:41</td>\n",
       "      <td>...</td>\n",
       "      <td>pierre-jean-villa-saint-joseph-tilde-2017</td>\n",
       "      <td>2019-12-21 09:00:17</td>\n",
       "      <td>2019-12-21 08:00:17</td>\n",
       "      <td>NaN</td>\n",
       "      <td>0.0</td>\n",
       "      <td>https://www.bottle-neck.fr/?post_type=product&amp;...</td>\n",
       "      <td>0.0</td>\n",
       "      <td>product</td>\n",
       "      <td>NaN</td>\n",
       "      <td>0.0</td>\n",
       "    </tr>\n",
       "    <tr>\n",
       "      <th>3</th>\n",
       "      <td>15300</td>\n",
       "      <td>0</td>\n",
       "      <td>0</td>\n",
       "      <td>0</td>\n",
       "      <td>0.0</td>\n",
       "      <td>0.0</td>\n",
       "      <td>taxable</td>\n",
       "      <td>NaN</td>\n",
       "      <td>2.0</td>\n",
       "      <td>2018-02-08 14:08:36</td>\n",
       "      <td>...</td>\n",
       "      <td>pierre-jean-villa-croze-hermitage-accroche-coe...</td>\n",
       "      <td>2020-06-26 18:15:03</td>\n",
       "      <td>2020-06-26 16:15:03</td>\n",
       "      <td>NaN</td>\n",
       "      <td>0.0</td>\n",
       "      <td>https://www.bottle-neck.fr/?post_type=product&amp;...</td>\n",
       "      <td>0.0</td>\n",
       "      <td>product</td>\n",
       "      <td>NaN</td>\n",
       "      <td>0.0</td>\n",
       "    </tr>\n",
       "    <tr>\n",
       "      <th>4</th>\n",
       "      <td>19814</td>\n",
       "      <td>0</td>\n",
       "      <td>0</td>\n",
       "      <td>0</td>\n",
       "      <td>0.0</td>\n",
       "      <td>3.0</td>\n",
       "      <td>taxable</td>\n",
       "      <td>NaN</td>\n",
       "      <td>2.0</td>\n",
       "      <td>2018-02-09 14:01:05</td>\n",
       "      <td>...</td>\n",
       "      <td>pierre-jean-villa-igp-gamine-2018</td>\n",
       "      <td>2020-01-04 16:36:01</td>\n",
       "      <td>2020-01-04 15:36:01</td>\n",
       "      <td>NaN</td>\n",
       "      <td>0.0</td>\n",
       "      <td>https://www.bottle-neck.fr/?post_type=product&amp;...</td>\n",
       "      <td>0.0</td>\n",
       "      <td>product</td>\n",
       "      <td>NaN</td>\n",
       "      <td>0.0</td>\n",
       "    </tr>\n",
       "  </tbody>\n",
       "</table>\n",
       "<p>5 rows × 28 columns</p>\n",
       "</div>"
      ],
      "text/plain": [
       "                   sku  virtual  downloadable  rating_count  average_rating  \\\n",
       "0  bon-cadeau-25-euros        0             0             0             0.0   \n",
       "1                15298        0             0             0             0.0   \n",
       "2                15296        0             0             0             0.0   \n",
       "3                15300        0             0             0             0.0   \n",
       "4                19814        0             0             0             0.0   \n",
       "\n",
       "   total_sales tax_status  tax_class  post_author           post_date  ...  \\\n",
       "0         10.0    taxable        NaN          1.0 2018-06-01 13:53:46  ...   \n",
       "1          6.0    taxable        NaN          2.0 2018-02-08 12:58:52  ...   \n",
       "2          0.0    taxable        NaN          2.0 2018-02-08 13:49:41  ...   \n",
       "3          0.0    taxable        NaN          2.0 2018-02-08 14:08:36  ...   \n",
       "4          3.0    taxable        NaN          2.0 2018-02-09 14:01:05  ...   \n",
       "\n",
       "                                           post_name       post_modified  \\\n",
       "0                             bon-cadeau-de-25-euros 2018-06-01 14:13:57   \n",
       "1        pierre-jean-villa-saint-joseph-preface-2018 2019-12-30 09:30:29   \n",
       "2          pierre-jean-villa-saint-joseph-tilde-2017 2019-12-21 09:00:17   \n",
       "3  pierre-jean-villa-croze-hermitage-accroche-coe... 2020-06-26 18:15:03   \n",
       "4                  pierre-jean-villa-igp-gamine-2018 2020-01-04 16:36:01   \n",
       "\n",
       "    post_modified_gmt post_content_filtered post_parent  \\\n",
       "0 2018-06-01 12:13:57                   NaN         0.0   \n",
       "1 2019-12-30 08:30:29                   NaN         0.0   \n",
       "2 2019-12-21 08:00:17                   NaN         0.0   \n",
       "3 2020-06-26 16:15:03                   NaN         0.0   \n",
       "4 2020-01-04 15:36:01                   NaN         0.0   \n",
       "\n",
       "                                                guid menu_order  post_type  \\\n",
       "0  https://www.bottle-neck.fr/?post_type=product&...        0.0    product   \n",
       "1  https://www.bottle-neck.fr/?post_type=product&...        0.0    product   \n",
       "2  https://www.bottle-neck.fr/?post_type=product&...        0.0    product   \n",
       "3  https://www.bottle-neck.fr/?post_type=product&...        0.0    product   \n",
       "4  https://www.bottle-neck.fr/?post_type=product&...        0.0    product   \n",
       "\n",
       "  post_mime_type comment_count  \n",
       "0            NaN           0.0  \n",
       "1            NaN           0.0  \n",
       "2            NaN           0.0  \n",
       "3            NaN           0.0  \n",
       "4            NaN           0.0  \n",
       "\n",
       "[5 rows x 28 columns]"
      ]
     },
     "execution_count": 5,
     "metadata": {},
     "output_type": "execute_result"
    }
   ],
   "source": [
    "web.head()"
   ]
  },
  {
   "cell_type": "markdown",
   "id": "2da7e916",
   "metadata": {
    "slideshow": {
     "slide_type": "slide"
    }
   },
   "source": [
    "## 2. Nettoyage des données <a class=\"anchor\" id=\"2\"></a>"
   ]
  },
  {
   "cell_type": "markdown",
   "id": "5e2f6d29",
   "metadata": {
    "slideshow": {
     "slide_type": "subslide"
    }
   },
   "source": [
    "### 2.1. Erreurs de type et valeurs manquantes <a class=\"anchor\" id=\"2_1\"></a>"
   ]
  },
  {
   "cell_type": "code",
   "execution_count": 6,
   "id": "ac6c5f4c",
   "metadata": {
    "slideshow": {
     "slide_type": "-"
    }
   },
   "outputs": [
    {
     "name": "stdout",
     "output_type": "stream",
     "text": [
      "<class 'pandas.core.frame.DataFrame'>\n",
      "RangeIndex: 825 entries, 0 to 824\n",
      "Data columns (total 5 columns):\n",
      " #   Column          Non-Null Count  Dtype  \n",
      "---  ------          --------------  -----  \n",
      " 0   product_id      825 non-null    int64  \n",
      " 1   onsale_web      825 non-null    int64  \n",
      " 2   price           825 non-null    float64\n",
      " 3   stock_quantity  825 non-null    int64  \n",
      " 4   stock_status    825 non-null    object \n",
      "dtypes: float64(1), int64(3), object(1)\n",
      "memory usage: 32.4+ KB\n"
     ]
    }
   ],
   "source": [
    "erp.info()"
   ]
  },
  {
   "cell_type": "code",
   "execution_count": 7,
   "id": "d2562a9c",
   "metadata": {
    "slideshow": {
     "slide_type": "-"
    }
   },
   "outputs": [],
   "source": [
    "# Changement de type pour 'product_id' en object\n",
    "erp['product_id'] = erp['product_id'].astype(object)"
   ]
  },
  {
   "cell_type": "code",
   "execution_count": 8,
   "id": "eeb869fe",
   "metadata": {
    "slideshow": {
     "slide_type": "subslide"
    }
   },
   "outputs": [
    {
     "name": "stdout",
     "output_type": "stream",
     "text": [
      "<class 'pandas.core.frame.DataFrame'>\n",
      "RangeIndex: 825 entries, 0 to 824\n",
      "Data columns (total 2 columns):\n",
      " #   Column      Non-Null Count  Dtype \n",
      "---  ------      --------------  ----- \n",
      " 0   product_id  825 non-null    int64 \n",
      " 1   id_web      734 non-null    object\n",
      "dtypes: int64(1), object(1)\n",
      "memory usage: 13.0+ KB\n"
     ]
    }
   ],
   "source": [
    "liaison.info()"
   ]
  },
  {
   "cell_type": "code",
   "execution_count": 9,
   "id": "af349cc3",
   "metadata": {
    "slideshow": {
     "slide_type": "-"
    }
   },
   "outputs": [],
   "source": [
    "# Changement de type pour 'product_id' en object\n",
    "liaison['product_id'] = liaison['product_id'].astype(object)\n",
    "\n",
    "# Renommage de la colonne 'id_web' en 'sku'\n",
    "liaison.rename(columns={'id_web':'sku'}, inplace = True)"
   ]
  },
  {
   "cell_type": "code",
   "execution_count": 10,
   "id": "de8870f3",
   "metadata": {
    "scrolled": true,
    "slideshow": {
     "slide_type": "subslide"
    }
   },
   "outputs": [
    {
     "name": "stdout",
     "output_type": "stream",
     "text": [
      "<class 'pandas.core.frame.DataFrame'>\n",
      "RangeIndex: 1513 entries, 0 to 1512\n",
      "Data columns (total 28 columns):\n",
      " #   Column                 Non-Null Count  Dtype         \n",
      "---  ------                 --------------  -----         \n",
      " 0   sku                    1428 non-null   object        \n",
      " 1   virtual                1513 non-null   int64         \n",
      " 2   downloadable           1513 non-null   int64         \n",
      " 3   rating_count           1513 non-null   int64         \n",
      " 4   average_rating         1430 non-null   float64       \n",
      " 5   total_sales            1430 non-null   float64       \n",
      " 6   tax_status             716 non-null    object        \n",
      " 7   tax_class              0 non-null      float64       \n",
      " 8   post_author            1430 non-null   float64       \n",
      " 9   post_date              1430 non-null   datetime64[ns]\n",
      " 10  post_date_gmt          1430 non-null   datetime64[ns]\n",
      " 11  post_content           0 non-null      float64       \n",
      " 12  post_title             1430 non-null   object        \n",
      " 13  post_excerpt           716 non-null    object        \n",
      " 14  post_status            1430 non-null   object        \n",
      " 15  comment_status         1430 non-null   object        \n",
      " 16  ping_status            1430 non-null   object        \n",
      " 17  post_password          0 non-null      float64       \n",
      " 18  post_name              1430 non-null   object        \n",
      " 19  post_modified          1430 non-null   datetime64[ns]\n",
      " 20  post_modified_gmt      1430 non-null   datetime64[ns]\n",
      " 21  post_content_filtered  0 non-null      float64       \n",
      " 22  post_parent            1430 non-null   float64       \n",
      " 23  guid                   1430 non-null   object        \n",
      " 24  menu_order             1430 non-null   float64       \n",
      " 25  post_type              1430 non-null   object        \n",
      " 26  post_mime_type         714 non-null    object        \n",
      " 27  comment_count          1430 non-null   float64       \n",
      "dtypes: datetime64[ns](4), float64(10), int64(3), object(11)\n",
      "memory usage: 331.1+ KB\n"
     ]
    }
   ],
   "source": [
    "web.info()"
   ]
  },
  {
   "cell_type": "code",
   "execution_count": 11,
   "id": "c0e231c8",
   "metadata": {
    "slideshow": {
     "slide_type": "subslide"
    }
   },
   "outputs": [
    {
     "data": {
      "text/html": [
       "<div>\n",
       "<style scoped>\n",
       "    .dataframe tbody tr th:only-of-type {\n",
       "        vertical-align: middle;\n",
       "    }\n",
       "\n",
       "    .dataframe tbody tr th {\n",
       "        vertical-align: top;\n",
       "    }\n",
       "\n",
       "    .dataframe thead th {\n",
       "        text-align: right;\n",
       "    }\n",
       "</style>\n",
       "<table border=\"1\" class=\"dataframe\">\n",
       "  <thead>\n",
       "    <tr style=\"text-align: right;\">\n",
       "      <th></th>\n",
       "      <th>virtual</th>\n",
       "      <th>downloadable</th>\n",
       "      <th>rating_count</th>\n",
       "      <th>average_rating</th>\n",
       "      <th>total_sales</th>\n",
       "      <th>tax_class</th>\n",
       "      <th>post_author</th>\n",
       "      <th>post_content</th>\n",
       "      <th>post_password</th>\n",
       "      <th>post_content_filtered</th>\n",
       "      <th>post_parent</th>\n",
       "      <th>menu_order</th>\n",
       "      <th>comment_count</th>\n",
       "    </tr>\n",
       "  </thead>\n",
       "  <tbody>\n",
       "    <tr>\n",
       "      <th>count</th>\n",
       "      <td>85.0</td>\n",
       "      <td>85.0</td>\n",
       "      <td>85.0</td>\n",
       "      <td>2.0</td>\n",
       "      <td>2.0</td>\n",
       "      <td>0.0</td>\n",
       "      <td>2.0</td>\n",
       "      <td>0.0</td>\n",
       "      <td>0.0</td>\n",
       "      <td>0.0</td>\n",
       "      <td>2.0</td>\n",
       "      <td>2.0</td>\n",
       "      <td>2.0</td>\n",
       "    </tr>\n",
       "    <tr>\n",
       "      <th>mean</th>\n",
       "      <td>0.0</td>\n",
       "      <td>0.0</td>\n",
       "      <td>0.0</td>\n",
       "      <td>0.0</td>\n",
       "      <td>0.0</td>\n",
       "      <td>NaN</td>\n",
       "      <td>2.0</td>\n",
       "      <td>NaN</td>\n",
       "      <td>NaN</td>\n",
       "      <td>NaN</td>\n",
       "      <td>0.0</td>\n",
       "      <td>0.0</td>\n",
       "      <td>0.0</td>\n",
       "    </tr>\n",
       "    <tr>\n",
       "      <th>std</th>\n",
       "      <td>0.0</td>\n",
       "      <td>0.0</td>\n",
       "      <td>0.0</td>\n",
       "      <td>0.0</td>\n",
       "      <td>0.0</td>\n",
       "      <td>NaN</td>\n",
       "      <td>0.0</td>\n",
       "      <td>NaN</td>\n",
       "      <td>NaN</td>\n",
       "      <td>NaN</td>\n",
       "      <td>0.0</td>\n",
       "      <td>0.0</td>\n",
       "      <td>0.0</td>\n",
       "    </tr>\n",
       "    <tr>\n",
       "      <th>min</th>\n",
       "      <td>0.0</td>\n",
       "      <td>0.0</td>\n",
       "      <td>0.0</td>\n",
       "      <td>0.0</td>\n",
       "      <td>0.0</td>\n",
       "      <td>NaN</td>\n",
       "      <td>2.0</td>\n",
       "      <td>NaN</td>\n",
       "      <td>NaN</td>\n",
       "      <td>NaN</td>\n",
       "      <td>0.0</td>\n",
       "      <td>0.0</td>\n",
       "      <td>0.0</td>\n",
       "    </tr>\n",
       "    <tr>\n",
       "      <th>25%</th>\n",
       "      <td>0.0</td>\n",
       "      <td>0.0</td>\n",
       "      <td>0.0</td>\n",
       "      <td>0.0</td>\n",
       "      <td>0.0</td>\n",
       "      <td>NaN</td>\n",
       "      <td>2.0</td>\n",
       "      <td>NaN</td>\n",
       "      <td>NaN</td>\n",
       "      <td>NaN</td>\n",
       "      <td>0.0</td>\n",
       "      <td>0.0</td>\n",
       "      <td>0.0</td>\n",
       "    </tr>\n",
       "    <tr>\n",
       "      <th>50%</th>\n",
       "      <td>0.0</td>\n",
       "      <td>0.0</td>\n",
       "      <td>0.0</td>\n",
       "      <td>0.0</td>\n",
       "      <td>0.0</td>\n",
       "      <td>NaN</td>\n",
       "      <td>2.0</td>\n",
       "      <td>NaN</td>\n",
       "      <td>NaN</td>\n",
       "      <td>NaN</td>\n",
       "      <td>0.0</td>\n",
       "      <td>0.0</td>\n",
       "      <td>0.0</td>\n",
       "    </tr>\n",
       "    <tr>\n",
       "      <th>75%</th>\n",
       "      <td>0.0</td>\n",
       "      <td>0.0</td>\n",
       "      <td>0.0</td>\n",
       "      <td>0.0</td>\n",
       "      <td>0.0</td>\n",
       "      <td>NaN</td>\n",
       "      <td>2.0</td>\n",
       "      <td>NaN</td>\n",
       "      <td>NaN</td>\n",
       "      <td>NaN</td>\n",
       "      <td>0.0</td>\n",
       "      <td>0.0</td>\n",
       "      <td>0.0</td>\n",
       "    </tr>\n",
       "    <tr>\n",
       "      <th>max</th>\n",
       "      <td>0.0</td>\n",
       "      <td>0.0</td>\n",
       "      <td>0.0</td>\n",
       "      <td>0.0</td>\n",
       "      <td>0.0</td>\n",
       "      <td>NaN</td>\n",
       "      <td>2.0</td>\n",
       "      <td>NaN</td>\n",
       "      <td>NaN</td>\n",
       "      <td>NaN</td>\n",
       "      <td>0.0</td>\n",
       "      <td>0.0</td>\n",
       "      <td>0.0</td>\n",
       "    </tr>\n",
       "  </tbody>\n",
       "</table>\n",
       "</div>"
      ],
      "text/plain": [
       "       virtual  downloadable  rating_count  average_rating  total_sales  \\\n",
       "count     85.0          85.0          85.0             2.0          2.0   \n",
       "mean       0.0           0.0           0.0             0.0          0.0   \n",
       "std        0.0           0.0           0.0             0.0          0.0   \n",
       "min        0.0           0.0           0.0             0.0          0.0   \n",
       "25%        0.0           0.0           0.0             0.0          0.0   \n",
       "50%        0.0           0.0           0.0             0.0          0.0   \n",
       "75%        0.0           0.0           0.0             0.0          0.0   \n",
       "max        0.0           0.0           0.0             0.0          0.0   \n",
       "\n",
       "       tax_class  post_author  post_content  post_password  \\\n",
       "count        0.0          2.0           0.0            0.0   \n",
       "mean         NaN          2.0           NaN            NaN   \n",
       "std          NaN          0.0           NaN            NaN   \n",
       "min          NaN          2.0           NaN            NaN   \n",
       "25%          NaN          2.0           NaN            NaN   \n",
       "50%          NaN          2.0           NaN            NaN   \n",
       "75%          NaN          2.0           NaN            NaN   \n",
       "max          NaN          2.0           NaN            NaN   \n",
       "\n",
       "       post_content_filtered  post_parent  menu_order  comment_count  \n",
       "count                    0.0          2.0         2.0            2.0  \n",
       "mean                     NaN          0.0         0.0            0.0  \n",
       "std                      NaN          0.0         0.0            0.0  \n",
       "min                      NaN          0.0         0.0            0.0  \n",
       "25%                      NaN          0.0         0.0            0.0  \n",
       "50%                      NaN          0.0         0.0            0.0  \n",
       "75%                      NaN          0.0         0.0            0.0  \n",
       "max                      NaN          0.0         0.0            0.0  "
      ]
     },
     "execution_count": 11,
     "metadata": {},
     "output_type": "execute_result"
    }
   ],
   "source": [
    "# Vérifions les lignes avec les sku vides \n",
    "web_sku_nan = web.loc[web['sku'].isna()]\n",
    "web_sku_nan.describe()"
   ]
  },
  {
   "cell_type": "code",
   "execution_count": 12,
   "id": "3a88bc86",
   "metadata": {
    "slideshow": {
     "slide_type": "-"
    }
   },
   "outputs": [
    {
     "data": {
      "text/html": [
       "<div>\n",
       "<style scoped>\n",
       "    .dataframe tbody tr th:only-of-type {\n",
       "        vertical-align: middle;\n",
       "    }\n",
       "\n",
       "    .dataframe tbody tr th {\n",
       "        vertical-align: top;\n",
       "    }\n",
       "\n",
       "    .dataframe thead th {\n",
       "        text-align: right;\n",
       "    }\n",
       "</style>\n",
       "<table border=\"1\" class=\"dataframe\">\n",
       "  <thead>\n",
       "    <tr style=\"text-align: right;\">\n",
       "      <th></th>\n",
       "      <th>sku</th>\n",
       "      <th>virtual</th>\n",
       "      <th>downloadable</th>\n",
       "      <th>rating_count</th>\n",
       "      <th>average_rating</th>\n",
       "      <th>total_sales</th>\n",
       "      <th>tax_status</th>\n",
       "      <th>tax_class</th>\n",
       "      <th>post_author</th>\n",
       "      <th>post_date</th>\n",
       "      <th>...</th>\n",
       "      <th>post_name</th>\n",
       "      <th>post_modified</th>\n",
       "      <th>post_modified_gmt</th>\n",
       "      <th>post_content_filtered</th>\n",
       "      <th>post_parent</th>\n",
       "      <th>guid</th>\n",
       "      <th>menu_order</th>\n",
       "      <th>post_type</th>\n",
       "      <th>post_mime_type</th>\n",
       "      <th>comment_count</th>\n",
       "    </tr>\n",
       "  </thead>\n",
       "  <tbody>\n",
       "    <tr>\n",
       "      <th>470</th>\n",
       "      <td>NaN</td>\n",
       "      <td>0</td>\n",
       "      <td>0</td>\n",
       "      <td>0</td>\n",
       "      <td>0.0</td>\n",
       "      <td>0.0</td>\n",
       "      <td>taxable</td>\n",
       "      <td>NaN</td>\n",
       "      <td>2.0</td>\n",
       "      <td>2018-07-31 12:07:23</td>\n",
       "      <td>...</td>\n",
       "      <td>pierre-jean-villa-cote-rotie-fongeant-2017</td>\n",
       "      <td>2019-11-02 13:24:15</td>\n",
       "      <td>2019-11-02 12:24:15</td>\n",
       "      <td>NaN</td>\n",
       "      <td>0.0</td>\n",
       "      <td>https://www.bottle-neck.fr/?post_type=product&amp;...</td>\n",
       "      <td>0.0</td>\n",
       "      <td>product</td>\n",
       "      <td>NaN</td>\n",
       "      <td>0.0</td>\n",
       "    </tr>\n",
       "    <tr>\n",
       "      <th>471</th>\n",
       "      <td>NaN</td>\n",
       "      <td>0</td>\n",
       "      <td>0</td>\n",
       "      <td>0</td>\n",
       "      <td>0.0</td>\n",
       "      <td>0.0</td>\n",
       "      <td>taxable</td>\n",
       "      <td>NaN</td>\n",
       "      <td>2.0</td>\n",
       "      <td>2018-08-08 11:23:43</td>\n",
       "      <td>...</td>\n",
       "      <td>pierre-jean-villa-condrieu-suspendu-2018</td>\n",
       "      <td>2019-11-02 13:24:01</td>\n",
       "      <td>2019-11-02 12:24:01</td>\n",
       "      <td>NaN</td>\n",
       "      <td>0.0</td>\n",
       "      <td>https://www.bottle-neck.fr/?post_type=product&amp;...</td>\n",
       "      <td>0.0</td>\n",
       "      <td>product</td>\n",
       "      <td>NaN</td>\n",
       "      <td>0.0</td>\n",
       "    </tr>\n",
       "  </tbody>\n",
       "</table>\n",
       "<p>2 rows × 28 columns</p>\n",
       "</div>"
      ],
      "text/plain": [
       "     sku  virtual  downloadable  rating_count  average_rating  total_sales  \\\n",
       "470  NaN        0             0             0             0.0          0.0   \n",
       "471  NaN        0             0             0             0.0          0.0   \n",
       "\n",
       "    tax_status  tax_class  post_author           post_date  ...  \\\n",
       "470    taxable        NaN          2.0 2018-07-31 12:07:23  ...   \n",
       "471    taxable        NaN          2.0 2018-08-08 11:23:43  ...   \n",
       "\n",
       "                                      post_name       post_modified  \\\n",
       "470  pierre-jean-villa-cote-rotie-fongeant-2017 2019-11-02 13:24:15   \n",
       "471    pierre-jean-villa-condrieu-suspendu-2018 2019-11-02 13:24:01   \n",
       "\n",
       "      post_modified_gmt post_content_filtered post_parent  \\\n",
       "470 2019-11-02 12:24:15                   NaN         0.0   \n",
       "471 2019-11-02 12:24:01                   NaN         0.0   \n",
       "\n",
       "                                                  guid menu_order  post_type  \\\n",
       "470  https://www.bottle-neck.fr/?post_type=product&...        0.0    product   \n",
       "471  https://www.bottle-neck.fr/?post_type=product&...        0.0    product   \n",
       "\n",
       "    post_mime_type comment_count  \n",
       "470            NaN           0.0  \n",
       "471            NaN           0.0  \n",
       "\n",
       "[2 rows x 28 columns]"
      ]
     },
     "execution_count": 12,
     "metadata": {},
     "output_type": "execute_result"
    }
   ],
   "source": [
    "# Regardons les lignes qui ne contiennent pas de données vides ou valeurs nulles\n",
    "web_sku_nan.loc[web_sku_nan['post_author'].notna()]"
   ]
  },
  {
   "cell_type": "markdown",
   "id": "51c1928c",
   "metadata": {
    "slideshow": {
     "slide_type": "-"
    }
   },
   "source": [
    "Il y a deux produits sans Id 'sku' : \"pierre-jean-villa-cote-rotie-fongeant-2017\" et \"pierre-jean-villa-condrieu-suspendu-2018\"."
   ]
  },
  {
   "cell_type": "code",
   "execution_count": 13,
   "id": "b2f3645b",
   "metadata": {
    "slideshow": {
     "slide_type": "subslide"
    }
   },
   "outputs": [],
   "source": [
    "# Nouveau dataframe où les lignes sans 'sku' sont supprimées\n",
    "données_web = web.dropna(subset=['sku'])"
   ]
  },
  {
   "cell_type": "markdown",
   "id": "d59c4145",
   "metadata": {
    "slideshow": {
     "slide_type": "subslide"
    }
   },
   "source": [
    "### 2.2. Doublons <a class=\"anchor\" id=\"2_2\"></a>"
   ]
  },
  {
   "cell_type": "markdown",
   "id": "ccfeb374",
   "metadata": {
    "slideshow": {
     "slide_type": "-"
    }
   },
   "source": [
    "#### 2.2.1. Dataframe 'erp' <a class=\"anchor\" id=\"2_2_1\"></a>"
   ]
  },
  {
   "cell_type": "code",
   "execution_count": 14,
   "id": "5a3c8870",
   "metadata": {
    "slideshow": {
     "slide_type": "-"
    }
   },
   "outputs": [
    {
     "data": {
      "text/plain": [
       "(825, 5)"
      ]
     },
     "execution_count": 14,
     "metadata": {},
     "output_type": "execute_result"
    }
   ],
   "source": [
    "# Regardons la taille de ce dataframe\n",
    "erp.shape"
   ]
  },
  {
   "cell_type": "code",
   "execution_count": 15,
   "id": "c8f44ed4",
   "metadata": {
    "slideshow": {
     "slide_type": "-"
    }
   },
   "outputs": [
    {
     "data": {
      "text/plain": [
       "825"
      ]
     },
     "execution_count": 15,
     "metadata": {},
     "output_type": "execute_result"
    }
   ],
   "source": [
    "# Le nombre de 'product_id' unique\n",
    "erp['product_id'].nunique()"
   ]
  },
  {
   "cell_type": "markdown",
   "id": "0914add6",
   "metadata": {
    "slideshow": {
     "slide_type": "-"
    }
   },
   "source": [
    "Aucun doublon dans 'erp'."
   ]
  },
  {
   "cell_type": "markdown",
   "id": "2c0efd6d",
   "metadata": {
    "slideshow": {
     "slide_type": "subslide"
    }
   },
   "source": [
    "#### 2.2.2. Dataframe 'données_web' <a class=\"anchor\" id=\"2_2_2\"></a>"
   ]
  },
  {
   "cell_type": "code",
   "execution_count": 16,
   "id": "8480fa10",
   "metadata": {
    "scrolled": true,
    "slideshow": {
     "slide_type": "-"
    }
   },
   "outputs": [
    {
     "data": {
      "text/plain": [
       "(1428, 28)"
      ]
     },
     "execution_count": 16,
     "metadata": {},
     "output_type": "execute_result"
    }
   ],
   "source": [
    "# Regardons la taille de ce dataframe \n",
    "données_web.shape"
   ]
  },
  {
   "cell_type": "code",
   "execution_count": 17,
   "id": "1952fe8c",
   "metadata": {
    "slideshow": {
     "slide_type": "-"
    }
   },
   "outputs": [
    {
     "data": {
      "text/plain": [
       "714"
      ]
     },
     "execution_count": 17,
     "metadata": {},
     "output_type": "execute_result"
    }
   ],
   "source": [
    "# Le nombre de 'sku' unique\n",
    "données_web['sku'].nunique()"
   ]
  },
  {
   "cell_type": "markdown",
   "id": "3a193a7f",
   "metadata": {
    "slideshow": {
     "slide_type": "-"
    }
   },
   "source": [
    "Il n'y a que 714 sku unique dans le fichier pour 1428 lignes. Il faut donc supprimer les doublons. "
   ]
  },
  {
   "cell_type": "code",
   "execution_count": 18,
   "id": "39c9704f",
   "metadata": {
    "slideshow": {
     "slide_type": "subslide"
    }
   },
   "outputs": [
    {
     "data": {
      "text/html": [
       "<div>\n",
       "<style scoped>\n",
       "    .dataframe tbody tr th:only-of-type {\n",
       "        vertical-align: middle;\n",
       "    }\n",
       "\n",
       "    .dataframe tbody tr th {\n",
       "        vertical-align: top;\n",
       "    }\n",
       "\n",
       "    .dataframe thead th {\n",
       "        text-align: right;\n",
       "    }\n",
       "</style>\n",
       "<table border=\"1\" class=\"dataframe\">\n",
       "  <thead>\n",
       "    <tr style=\"text-align: right;\">\n",
       "      <th></th>\n",
       "      <th>total_sales</th>\n",
       "      <th>post_title</th>\n",
       "      <th>post_type</th>\n",
       "    </tr>\n",
       "  </thead>\n",
       "  <tbody>\n",
       "    <tr>\n",
       "      <th>count</th>\n",
       "      <td>714.0</td>\n",
       "      <td>714.0</td>\n",
       "      <td>714.0</td>\n",
       "    </tr>\n",
       "    <tr>\n",
       "      <th>mean</th>\n",
       "      <td>2.0</td>\n",
       "      <td>2.0</td>\n",
       "      <td>2.0</td>\n",
       "    </tr>\n",
       "    <tr>\n",
       "      <th>std</th>\n",
       "      <td>0.0</td>\n",
       "      <td>0.0</td>\n",
       "      <td>0.0</td>\n",
       "    </tr>\n",
       "    <tr>\n",
       "      <th>min</th>\n",
       "      <td>2.0</td>\n",
       "      <td>2.0</td>\n",
       "      <td>2.0</td>\n",
       "    </tr>\n",
       "    <tr>\n",
       "      <th>25%</th>\n",
       "      <td>2.0</td>\n",
       "      <td>2.0</td>\n",
       "      <td>2.0</td>\n",
       "    </tr>\n",
       "    <tr>\n",
       "      <th>50%</th>\n",
       "      <td>2.0</td>\n",
       "      <td>2.0</td>\n",
       "      <td>2.0</td>\n",
       "    </tr>\n",
       "    <tr>\n",
       "      <th>75%</th>\n",
       "      <td>2.0</td>\n",
       "      <td>2.0</td>\n",
       "      <td>2.0</td>\n",
       "    </tr>\n",
       "    <tr>\n",
       "      <th>max</th>\n",
       "      <td>2.0</td>\n",
       "      <td>2.0</td>\n",
       "      <td>2.0</td>\n",
       "    </tr>\n",
       "  </tbody>\n",
       "</table>\n",
       "</div>"
      ],
      "text/plain": [
       "       total_sales  post_title  post_type\n",
       "count        714.0       714.0      714.0\n",
       "mean           2.0         2.0        2.0\n",
       "std            0.0         0.0        0.0\n",
       "min            2.0         2.0        2.0\n",
       "25%            2.0         2.0        2.0\n",
       "50%            2.0         2.0        2.0\n",
       "75%            2.0         2.0        2.0\n",
       "max            2.0         2.0        2.0"
      ]
     },
     "execution_count": 18,
     "metadata": {},
     "output_type": "execute_result"
    }
   ],
   "source": [
    "# Gardons seulement les colonnes qui seront utiles pour la suite de l'étude dans notre copie du dataframe 'web'\n",
    "données_web = données_web[['sku', 'total_sales', 'post_title', 'post_type']]\n",
    "\n",
    "#Vérifions que les 1428 lignes sont vraiment des doublons en vérifiant les informations dans les autres colonnes\n",
    "données_web.groupby('sku').count().describe()"
   ]
  },
  {
   "cell_type": "markdown",
   "id": "afbd638e",
   "metadata": {
    "slideshow": {
     "slide_type": "-"
    }
   },
   "source": [
    "Les lignes sont en effet en double. On peut donc les supprimer. "
   ]
  },
  {
   "cell_type": "code",
   "execution_count": 19,
   "id": "e1f10dd1",
   "metadata": {
    "scrolled": true,
    "slideshow": {
     "slide_type": "-"
    }
   },
   "outputs": [
    {
     "name": "stdout",
     "output_type": "stream",
     "text": [
      "Le nombre d'ID unique de la colonne 'sku' est de 714 pour un nombre total de 714 lignes.\n"
     ]
    }
   ],
   "source": [
    "# Suppression des lignes en double\n",
    "données_web.drop_duplicates(subset=['sku'], inplace=True, ignore_index=True)\n",
    "\n",
    "print(f\"Le nombre d'ID unique de la colonne 'sku' est de {données_web['sku'].nunique()} pour un nombre total de {len(données_web['sku'])} lignes.\")"
   ]
  },
  {
   "cell_type": "markdown",
   "id": "e9b74f16",
   "metadata": {
    "slideshow": {
     "slide_type": "subslide"
    }
   },
   "source": [
    "#### 2.2.3. Dataframe 'liaison' <a class=\"anchor\" id=\"2_2_3\"></a>"
   ]
  },
  {
   "cell_type": "code",
   "execution_count": 20,
   "id": "69af9d23",
   "metadata": {
    "slideshow": {
     "slide_type": "-"
    }
   },
   "outputs": [
    {
     "data": {
      "text/html": [
       "<div>\n",
       "<style scoped>\n",
       "    .dataframe tbody tr th:only-of-type {\n",
       "        vertical-align: middle;\n",
       "    }\n",
       "\n",
       "    .dataframe tbody tr th {\n",
       "        vertical-align: top;\n",
       "    }\n",
       "\n",
       "    .dataframe thead th {\n",
       "        text-align: right;\n",
       "    }\n",
       "</style>\n",
       "<table border=\"1\" class=\"dataframe\">\n",
       "  <thead>\n",
       "    <tr style=\"text-align: right;\">\n",
       "      <th></th>\n",
       "      <th>product_id</th>\n",
       "      <th>sku</th>\n",
       "    </tr>\n",
       "  </thead>\n",
       "  <tbody>\n",
       "  </tbody>\n",
       "</table>\n",
       "</div>"
      ],
      "text/plain": [
       "Empty DataFrame\n",
       "Columns: [product_id, sku]\n",
       "Index: []"
      ]
     },
     "execution_count": 20,
     "metadata": {},
     "output_type": "execute_result"
    }
   ],
   "source": [
    "# Regardons les lignes en doublons dans 'liaison'\n",
    "liaison.loc[liaison[['product_id', 'sku']].duplicated(keep=False), :]"
   ]
  },
  {
   "cell_type": "markdown",
   "id": "ab8e168e",
   "metadata": {
    "slideshow": {
     "slide_type": "-"
    }
   },
   "source": [
    "Aucun doublons dans 'liaison'."
   ]
  },
  {
   "cell_type": "markdown",
   "id": "f69c5b0e",
   "metadata": {
    "slideshow": {
     "slide_type": "slide"
    }
   },
   "source": [
    "## 3. Rapprochement des deux exports 'erp' et 'web' <a class=\"anchor\" id=\"3\"></a>"
   ]
  },
  {
   "cell_type": "markdown",
   "id": "75c4af74",
   "metadata": {
    "slideshow": {
     "slide_type": "subslide"
    }
   },
   "source": [
    "### 3.1. Jointures pour rapprocher les deux exports <a class=\"anchor\" id=\"3_1\"></a>"
   ]
  },
  {
   "cell_type": "markdown",
   "id": "45d99793",
   "metadata": {
    "slideshow": {
     "slide_type": "-"
    }
   },
   "source": [
    "#### 3.1.1. Jointures <a class=\"anchor\" id=\"3_1_1\"></a>"
   ]
  },
  {
   "cell_type": "code",
   "execution_count": 21,
   "id": "9621c225",
   "metadata": {
    "slideshow": {
     "slide_type": "-"
    }
   },
   "outputs": [],
   "source": [
    "# Jointure entre le dataframe 'erp' et 'liaison'\n",
    "erp_liaison = pd.merge(erp, liaison, how='left', on='product_id')\n",
    "\n",
    "# Jointure entre le dataframe 'données_web' et l'export 'erp'\n",
    "erp_web = pd.merge(données_web, erp_liaison, how='left', on='sku')"
   ]
  },
  {
   "cell_type": "markdown",
   "id": "24c30b7c",
   "metadata": {
    "slideshow": {
     "slide_type": "subslide"
    }
   },
   "source": [
    "#### 3.1.2. Vérification des jointures <a class=\"anchor\" id=\"3_1_2\"></a>"
   ]
  },
  {
   "cell_type": "code",
   "execution_count": 22,
   "id": "81e7e31e",
   "metadata": {
    "slideshow": {
     "slide_type": "-"
    }
   },
   "outputs": [
    {
     "name": "stdout",
     "output_type": "stream",
     "text": [
      "<class 'pandas.core.frame.DataFrame'>\n",
      "Int64Index: 825 entries, 0 to 824\n",
      "Data columns (total 6 columns):\n",
      " #   Column          Non-Null Count  Dtype  \n",
      "---  ------          --------------  -----  \n",
      " 0   product_id      825 non-null    object \n",
      " 1   onsale_web      825 non-null    int64  \n",
      " 2   price           825 non-null    float64\n",
      " 3   stock_quantity  825 non-null    int64  \n",
      " 4   stock_status    825 non-null    object \n",
      " 5   sku             734 non-null    object \n",
      "dtypes: float64(1), int64(2), object(3)\n",
      "memory usage: 45.1+ KB\n"
     ]
    }
   ],
   "source": [
    "# Vérification de la jointure entre le dataframe 'erp' et 'liaison'\n",
    "erp_liaison.info()"
   ]
  },
  {
   "cell_type": "markdown",
   "id": "253c5cce",
   "metadata": {
    "slideshow": {
     "slide_type": "-"
    }
   },
   "source": [
    "Nous retrouvons bien les 825 product_id et les 734 sku. "
   ]
  },
  {
   "cell_type": "code",
   "execution_count": 23,
   "id": "14f49685",
   "metadata": {
    "slideshow": {
     "slide_type": "subslide"
    }
   },
   "outputs": [
    {
     "name": "stdout",
     "output_type": "stream",
     "text": [
      "<class 'pandas.core.frame.DataFrame'>\n",
      "Int64Index: 714 entries, 0 to 713\n",
      "Data columns (total 9 columns):\n",
      " #   Column          Non-Null Count  Dtype  \n",
      "---  ------          --------------  -----  \n",
      " 0   sku             714 non-null    object \n",
      " 1   total_sales     714 non-null    float64\n",
      " 2   post_title      714 non-null    object \n",
      " 3   post_type       714 non-null    object \n",
      " 4   product_id      714 non-null    object \n",
      " 5   onsale_web      714 non-null    int64  \n",
      " 6   price           714 non-null    float64\n",
      " 7   stock_quantity  714 non-null    int64  \n",
      " 8   stock_status    714 non-null    object \n",
      "dtypes: float64(2), int64(2), object(5)\n",
      "memory usage: 55.8+ KB\n"
     ]
    }
   ],
   "source": [
    "# Vérification de la jointure entre le dataframe 'données_web' et l'export 'erp'\n",
    "erp_web.info()"
   ]
  },
  {
   "cell_type": "markdown",
   "id": "def67ec0",
   "metadata": {
    "slideshow": {
     "slide_type": "-"
    }
   },
   "source": [
    "Nous avons bien une correspondance pour chacune des lignes de 'données_web'."
   ]
  },
  {
   "cell_type": "code",
   "execution_count": 24,
   "id": "1f5b280a",
   "metadata": {
    "slideshow": {
     "slide_type": "subslide"
    }
   },
   "outputs": [
    {
     "name": "stdout",
     "output_type": "stream",
     "text": [
      "Il y a 111 product_id dont 20 avec une correspondance sku qui n'ont pas jointé avec les données du fichier web.\n",
      "Il y a donc 91 product_id sans sku correspondant.\n",
      "Pour autant, 714 clés ont jointé avec succés.\n"
     ]
    }
   ],
   "source": [
    "# Vérification des 'match' et 'non-match' sur la jointure, utilisons une jointure 'outer' pour avoir toutes les lignes (à gauche et à droite)\n",
    "verif = pd.merge(données_web, erp_liaison, how='outer', on='sku', indicator=True)\n",
    "\n",
    "# Nombre de 'match' à la fois à gauche et à droite\n",
    "nb_match_verif = verif.loc[verif['_merge'] == 'both']['sku'].nunique()\n",
    "\n",
    "# Liste des 'product_id' et 'sku' non présents dans 'erp_web'\n",
    "verif = verif.loc[verif['_merge'] == 'right_only'][['product_id', 'sku']]\n",
    "nb_product_id_verif = verif['product_id'].nunique()\n",
    "nb_sku_verif = verif['sku'].nunique()\n",
    "\n",
    "print(f\"Il y a {nb_product_id_verif} product_id dont {nb_sku_verif} avec une correspondance sku qui n'ont pas jointé avec les données du fichier web.\\nIl y a donc {nb_product_id_verif-nb_sku_verif} product_id sans sku correspondant.\\nPour autant, {nb_match_verif} clés ont jointé avec succés.\")"
   ]
  },
  {
   "cell_type": "markdown",
   "id": "77cabc3a",
   "metadata": {
    "slideshow": {
     "slide_type": "subslide"
    }
   },
   "source": [
    "### 3.2. Calcul du chiffre d'affaires par produit et chiffre d'affaires total <a class=\"anchor\" id=\"3_2\"></a>"
   ]
  },
  {
   "cell_type": "code",
   "execution_count": 25,
   "id": "b4d1d8d0",
   "metadata": {
    "slideshow": {
     "slide_type": "-"
    }
   },
   "outputs": [
    {
     "name": "stdout",
     "output_type": "stream",
     "text": [
      "Le chiffre d'affaires total est de 70568.6€.\n"
     ]
    }
   ],
   "source": [
    "# Rajout d'une colonne 'Chiffre d'affaires' pour avoir le CA par produit\n",
    "erp_web[\"Chiffre d'affaires\"] = erp_web['price'] * erp_web['total_sales']\n",
    "\n",
    "# Calcul du CA total\n",
    "ca_total = erp_web[\"Chiffre d'affaires\"].sum()\n",
    "print(f\"Le chiffre d'affaires total est de {ca_total}€.\")"
   ]
  },
  {
   "cell_type": "markdown",
   "id": "5fc5fb4e",
   "metadata": {
    "slideshow": {
     "slide_type": "slide"
    }
   },
   "source": [
    "## 4. Etude des outliers <a class=\"anchor\" id=\"4\"></a>"
   ]
  },
  {
   "cell_type": "code",
   "execution_count": 26,
   "id": "5b006d80",
   "metadata": {
    "slideshow": {
     "slide_type": "-"
    }
   },
   "outputs": [
    {
     "name": "stdout",
     "output_type": "stream",
     "text": [
      "Le prix médian des bouteilles est de 23.55€.\n"
     ]
    }
   ],
   "source": [
    "# Calculons la médianne de la variable prix\n",
    "med = erp_web['price'].median()\n",
    "print(f'Le prix médian des bouteilles est de {med}€.')"
   ]
  },
  {
   "cell_type": "code",
   "execution_count": 27,
   "id": "a325b847",
   "metadata": {
    "slideshow": {
     "slide_type": "-"
    }
   },
   "outputs": [
    {
     "name": "stdout",
     "output_type": "stream",
     "text": [
      "Le prix moyen des bouteilles est de 32.49€.\n"
     ]
    }
   ],
   "source": [
    "# Calculons la moyenne de la variable prix\n",
    "m = erp_web['price'].mean()\n",
    "print(f'Le prix moyen des bouteilles est de {round(m, 2)}€.')"
   ]
  },
  {
   "cell_type": "markdown",
   "id": "7095e658",
   "metadata": {
    "slideshow": {
     "slide_type": "-"
    }
   },
   "source": [
    "Il y a une différence notable entre le prix médian et le prix moyen. Cela nous indique une asymétrie positive au niveau de la variable prix. Nous allons donc chercher les valeurs qui viennent influer \"positivement\" sur la moyenne en calculant le Z-score pour chacun des prix des produits."
   ]
  },
  {
   "cell_type": "markdown",
   "id": "9993394a",
   "metadata": {
    "slideshow": {
     "slide_type": "subslide"
    }
   },
   "source": [
    "### 4.1. Calcul du Z-score des prix <a class=\"anchor\" id=\"4_1\"></a>"
   ]
  },
  {
   "cell_type": "code",
   "execution_count": 28,
   "id": "5c7842ad",
   "metadata": {
    "slideshow": {
     "slide_type": "-"
    }
   },
   "outputs": [],
   "source": [
    "# Calculons l'écart-type de la variable prix\n",
    "s = erp_web['price'].std()\n",
    "\n",
    "# Rajoutons le Z-score comme colonne du dataframe 'erp_web'\n",
    "erp_web['Z-score'] = (erp_web['price'] - m)/s"
   ]
  },
  {
   "cell_type": "markdown",
   "id": "6942f61f",
   "metadata": {
    "slideshow": {
     "slide_type": "-"
    }
   },
   "source": [
    "Le Z-score nous indique à combien d'écart-types se trouve le prix par rapport à la moyenne. Considérons qu'un Z-score égal à 2 signifie que la valeur est très éloignée de la moyenne et donc que ce prix est un 'outlier'."
   ]
  },
  {
   "cell_type": "code",
   "execution_count": 29,
   "id": "ec131daa",
   "metadata": {
    "slideshow": {
     "slide_type": "subslide"
    }
   },
   "outputs": [],
   "source": [
    "# Il faut isoler les outliers dans un Dataframe 'outliers'\n",
    "outliers = erp_web.loc[(erp_web['Z-score'] >=2) | (erp_web['Z-score'] <= -2)]\n",
    "\n",
    "# Puis isoler les autres valeurs dans un autre Dataframe 'non_outliers'\n",
    "non_outliers = erp_web.drop(erp_web[(erp_web['Z-score'] >= 2) | (erp_web['Z-score'] <= -2)].index)"
   ]
  },
  {
   "cell_type": "code",
   "execution_count": 30,
   "id": "cf0460ae",
   "metadata": {
    "slideshow": {
     "slide_type": "subslide"
    }
   },
   "outputs": [
    {
     "data": {
      "image/png": "[encoded data removed]",
      "text/plain": [
       "<Figure size 800x600 with 1 Axes>"
      ]
     },
     "metadata": {},
     "output_type": "display_data"
    }
   ],
   "source": [
    "# Repésentons la répartition des prix des bouteilles sur un nuage de points afin de mieux visualiser\n",
    "plt.figure(figsize=(8,6))\n",
    "plt.scatter(non_outliers['price'], non_outliers['total_sales'], color = 'blue', label = 'Répartion des prix des bouteilles', alpha=0.5)\n",
    "plt.scatter(outliers['price'], outliers['total_sales'], color= 'red', label= 'Répartions des prix des bouteilles outliers', alpha=0.5)\n",
    "plt.axvline(m, color='orange', label = 'Prix moyen des bouteilles')\n",
    "plt.title('Répartition des prix des bouteilles par rapport au nombre total de ventes', fontsize=18, y=1.05)\n",
    "plt.xlabel('Prix des bouteilles (en €)', fontsize=10)\n",
    "plt.ylabel('Nombre total de ventes', fontsize=10)\n",
    "plt.xticks(np.arange(0,250,25))\n",
    "plt.yticks(np.arange(0,110,10))\n",
    "plt.legend(bbox_to_anchor=(1.05, 0.5), loc='upper left')\n",
    "plt.grid(linestyle = 'dashed')\n",
    "plt.show()"
   ]
  },
  {
   "cell_type": "markdown",
   "id": "12fd1f05",
   "metadata": {
    "slideshow": {
     "slide_type": "-"
    }
   },
   "source": [
    "Notons qu'aucune corrélation entre le prix des bouteilles et le nombre de ventes n'apparait sur ce graphique."
   ]
  },
  {
   "cell_type": "code",
   "execution_count": 31,
   "id": "48cfa10f",
   "metadata": {
    "slideshow": {
     "slide_type": "subslide"
    }
   },
   "outputs": [
    {
     "data": {
      "text/html": [
       "<div>\n",
       "<style scoped>\n",
       "    .dataframe tbody tr th:only-of-type {\n",
       "        vertical-align: middle;\n",
       "    }\n",
       "\n",
       "    .dataframe tbody tr th {\n",
       "        vertical-align: top;\n",
       "    }\n",
       "\n",
       "    .dataframe thead th {\n",
       "        text-align: right;\n",
       "    }\n",
       "</style>\n",
       "<table border=\"1\" class=\"dataframe\">\n",
       "  <thead>\n",
       "    <tr style=\"text-align: right;\">\n",
       "      <th></th>\n",
       "      <th>sku</th>\n",
       "      <th>total_sales</th>\n",
       "      <th>post_title</th>\n",
       "      <th>post_type</th>\n",
       "      <th>product_id</th>\n",
       "      <th>onsale_web</th>\n",
       "      <th>price</th>\n",
       "      <th>stock_quantity</th>\n",
       "      <th>stock_status</th>\n",
       "      <th>Chiffre d'affaires</th>\n",
       "      <th>Z-score</th>\n",
       "    </tr>\n",
       "  </thead>\n",
       "  <tbody>\n",
       "    <tr>\n",
       "      <th>200</th>\n",
       "      <td>15940</td>\n",
       "      <td>5.0</td>\n",
       "      <td>Champagne Egly-Ouriet Grand Cru Millésimé 2008</td>\n",
       "      <td>product</td>\n",
       "      <td>4352</td>\n",
       "      <td>1</td>\n",
       "      <td>225.0</td>\n",
       "      <td>0</td>\n",
       "      <td>outofstock</td>\n",
       "      <td>1125.0</td>\n",
       "      <td>6.922087</td>\n",
       "    </tr>\n",
       "    <tr>\n",
       "      <th>426</th>\n",
       "      <td>14581</td>\n",
       "      <td>0.0</td>\n",
       "      <td>David Duband Charmes-Chambertin Grand Cru 2014</td>\n",
       "      <td>product</td>\n",
       "      <td>5001</td>\n",
       "      <td>1</td>\n",
       "      <td>217.5</td>\n",
       "      <td>20</td>\n",
       "      <td>instock</td>\n",
       "      <td>0.0</td>\n",
       "      <td>6.652405</td>\n",
       "    </tr>\n",
       "    <tr>\n",
       "      <th>587</th>\n",
       "      <td>14983</td>\n",
       "      <td>3.0</td>\n",
       "      <td>Coteaux Champenois Egly-Ouriet Ambonnay Rouge ...</td>\n",
       "      <td>product</td>\n",
       "      <td>5892</td>\n",
       "      <td>1</td>\n",
       "      <td>191.3</td>\n",
       "      <td>10</td>\n",
       "      <td>instock</td>\n",
       "      <td>573.9</td>\n",
       "      <td>5.710315</td>\n",
       "    </tr>\n",
       "    <tr>\n",
       "      <th>219</th>\n",
       "      <td>3510</td>\n",
       "      <td>13.0</td>\n",
       "      <td>Cognac Frapin VIP XO</td>\n",
       "      <td>product</td>\n",
       "      <td>4402</td>\n",
       "      <td>1</td>\n",
       "      <td>176.0</td>\n",
       "      <td>8</td>\n",
       "      <td>instock</td>\n",
       "      <td>2288.0</td>\n",
       "      <td>5.160164</td>\n",
       "    </tr>\n",
       "    <tr>\n",
       "      <th>553</th>\n",
       "      <td>15185</td>\n",
       "      <td>0.0</td>\n",
       "      <td>Camille Giroud Clos de Vougeot 2016</td>\n",
       "      <td>product</td>\n",
       "      <td>5767</td>\n",
       "      <td>1</td>\n",
       "      <td>175.0</td>\n",
       "      <td>12</td>\n",
       "      <td>instock</td>\n",
       "      <td>0.0</td>\n",
       "      <td>5.124206</td>\n",
       "    </tr>\n",
       "    <tr>\n",
       "      <th>222</th>\n",
       "      <td>7819</td>\n",
       "      <td>0.0</td>\n",
       "      <td>Cognac Frapin Château de Fontpinot 1989 20 Ans...</td>\n",
       "      <td>product</td>\n",
       "      <td>4406</td>\n",
       "      <td>1</td>\n",
       "      <td>157.0</td>\n",
       "      <td>3</td>\n",
       "      <td>instock</td>\n",
       "      <td>0.0</td>\n",
       "      <td>4.476969</td>\n",
       "    </tr>\n",
       "    <tr>\n",
       "      <th>382</th>\n",
       "      <td>14220</td>\n",
       "      <td>5.0</td>\n",
       "      <td>Domaine Des Croix Corton Charlemagne Grand Cru...</td>\n",
       "      <td>product</td>\n",
       "      <td>4904</td>\n",
       "      <td>1</td>\n",
       "      <td>137.0</td>\n",
       "      <td>13</td>\n",
       "      <td>instock</td>\n",
       "      <td>685.0</td>\n",
       "      <td>3.757817</td>\n",
       "    </tr>\n",
       "    <tr>\n",
       "      <th>642</th>\n",
       "      <td>14923</td>\n",
       "      <td>2.0</td>\n",
       "      <td>Champagne Gosset Célébris Vintage 2007</td>\n",
       "      <td>product</td>\n",
       "      <td>6126</td>\n",
       "      <td>1</td>\n",
       "      <td>135.0</td>\n",
       "      <td>10</td>\n",
       "      <td>instock</td>\n",
       "      <td>270.0</td>\n",
       "      <td>3.685902</td>\n",
       "    </tr>\n",
       "    <tr>\n",
       "      <th>202</th>\n",
       "      <td>12589</td>\n",
       "      <td>11.0</td>\n",
       "      <td>Champagne Egly-Ouriet Grand Cru Blanc de Noirs</td>\n",
       "      <td>product</td>\n",
       "      <td>4355</td>\n",
       "      <td>1</td>\n",
       "      <td>126.5</td>\n",
       "      <td>2</td>\n",
       "      <td>instock</td>\n",
       "      <td>1391.5</td>\n",
       "      <td>3.380262</td>\n",
       "    </tr>\n",
       "    <tr>\n",
       "      <th>511</th>\n",
       "      <td>14915</td>\n",
       "      <td>0.0</td>\n",
       "      <td>Domaine Weinbach Gewurztraminer Grand Cru Furs...</td>\n",
       "      <td>product</td>\n",
       "      <td>5612</td>\n",
       "      <td>1</td>\n",
       "      <td>124.8</td>\n",
       "      <td>12</td>\n",
       "      <td>instock</td>\n",
       "      <td>0.0</td>\n",
       "      <td>3.319134</td>\n",
       "    </tr>\n",
       "    <tr>\n",
       "      <th>603</th>\n",
       "      <td>14775</td>\n",
       "      <td>0.0</td>\n",
       "      <td>Wemyss Malts Single Cask Scotch Whisky Choc 'n...</td>\n",
       "      <td>product</td>\n",
       "      <td>5917</td>\n",
       "      <td>1</td>\n",
       "      <td>122.0</td>\n",
       "      <td>4</td>\n",
       "      <td>instock</td>\n",
       "      <td>0.0</td>\n",
       "      <td>3.218453</td>\n",
       "    </tr>\n",
       "    <tr>\n",
       "      <th>657</th>\n",
       "      <td>15070</td>\n",
       "      <td>0.0</td>\n",
       "      <td>Domaine des Comtes Lafon Volnay 1er Cru Champa...</td>\n",
       "      <td>product</td>\n",
       "      <td>6216</td>\n",
       "      <td>1</td>\n",
       "      <td>121.0</td>\n",
       "      <td>6</td>\n",
       "      <td>instock</td>\n",
       "      <td>0.0</td>\n",
       "      <td>3.182495</td>\n",
       "    </tr>\n",
       "    <tr>\n",
       "      <th>654</th>\n",
       "      <td>15072</td>\n",
       "      <td>0.0</td>\n",
       "      <td>Domaine des Comtes Lafon Volnay 1er Cru Santen...</td>\n",
       "      <td>product</td>\n",
       "      <td>6213</td>\n",
       "      <td>1</td>\n",
       "      <td>121.0</td>\n",
       "      <td>7</td>\n",
       "      <td>instock</td>\n",
       "      <td>0.0</td>\n",
       "      <td>3.182495</td>\n",
       "    </tr>\n",
       "    <tr>\n",
       "      <th>648</th>\n",
       "      <td>15126</td>\n",
       "      <td>0.0</td>\n",
       "      <td>Domaine Clerget Echezeaux Grand Cru En Orveaux...</td>\n",
       "      <td>product</td>\n",
       "      <td>6202</td>\n",
       "      <td>1</td>\n",
       "      <td>116.4</td>\n",
       "      <td>14</td>\n",
       "      <td>instock</td>\n",
       "      <td>0.0</td>\n",
       "      <td>3.017090</td>\n",
       "    </tr>\n",
       "    <tr>\n",
       "      <th>656</th>\n",
       "      <td>12790</td>\n",
       "      <td>0.0</td>\n",
       "      <td>Domaine des Comtes Lafon Volnay 1er Cru Champa...</td>\n",
       "      <td>product</td>\n",
       "      <td>6215</td>\n",
       "      <td>1</td>\n",
       "      <td>115.0</td>\n",
       "      <td>4</td>\n",
       "      <td>instock</td>\n",
       "      <td>0.0</td>\n",
       "      <td>2.966750</td>\n",
       "    </tr>\n",
       "    <tr>\n",
       "      <th>653</th>\n",
       "      <td>13996</td>\n",
       "      <td>2.0</td>\n",
       "      <td>Domaine des Comtes Lafon Volnay 1er Cru Santen...</td>\n",
       "      <td>product</td>\n",
       "      <td>6212</td>\n",
       "      <td>1</td>\n",
       "      <td>115.0</td>\n",
       "      <td>2</td>\n",
       "      <td>instock</td>\n",
       "      <td>230.0</td>\n",
       "      <td>2.966750</td>\n",
       "    </tr>\n",
       "    <tr>\n",
       "      <th>604</th>\n",
       "      <td>14773</td>\n",
       "      <td>0.0</td>\n",
       "      <td>Wemyss Malts Single Cask Scotch Whisky Chai Ca...</td>\n",
       "      <td>product</td>\n",
       "      <td>5918</td>\n",
       "      <td>1</td>\n",
       "      <td>114.0</td>\n",
       "      <td>8</td>\n",
       "      <td>instock</td>\n",
       "      <td>0.0</td>\n",
       "      <td>2.930792</td>\n",
       "    </tr>\n",
       "    <tr>\n",
       "      <th>437</th>\n",
       "      <td>13914</td>\n",
       "      <td>0.0</td>\n",
       "      <td>Champagne Agrapart &amp;amp; Fils L'Avizoise Extra...</td>\n",
       "      <td>product</td>\n",
       "      <td>5025</td>\n",
       "      <td>1</td>\n",
       "      <td>112.0</td>\n",
       "      <td>0</td>\n",
       "      <td>outofstock</td>\n",
       "      <td>0.0</td>\n",
       "      <td>2.858877</td>\n",
       "    </tr>\n",
       "    <tr>\n",
       "      <th>228</th>\n",
       "      <td>12857</td>\n",
       "      <td>0.0</td>\n",
       "      <td>Château de Meursault Puligny-Montrachet 1er Cr...</td>\n",
       "      <td>product</td>\n",
       "      <td>4582</td>\n",
       "      <td>1</td>\n",
       "      <td>109.6</td>\n",
       "      <td>7</td>\n",
       "      <td>instock</td>\n",
       "      <td>0.0</td>\n",
       "      <td>2.772578</td>\n",
       "    </tr>\n",
       "    <tr>\n",
       "      <th>220</th>\n",
       "      <td>3507</td>\n",
       "      <td>2.0</td>\n",
       "      <td>Cognac Frapin Château de Fontpinot XO</td>\n",
       "      <td>product</td>\n",
       "      <td>4404</td>\n",
       "      <td>1</td>\n",
       "      <td>108.5</td>\n",
       "      <td>2</td>\n",
       "      <td>instock</td>\n",
       "      <td>217.0</td>\n",
       "      <td>2.733025</td>\n",
       "    </tr>\n",
       "    <tr>\n",
       "      <th>647</th>\n",
       "      <td>14596</td>\n",
       "      <td>0.0</td>\n",
       "      <td>David Duband Chambolle-Musigny 1er Cru Les Sen...</td>\n",
       "      <td>product</td>\n",
       "      <td>6201</td>\n",
       "      <td>1</td>\n",
       "      <td>105.6</td>\n",
       "      <td>7</td>\n",
       "      <td>instock</td>\n",
       "      <td>0.0</td>\n",
       "      <td>2.628748</td>\n",
       "    </tr>\n",
       "    <tr>\n",
       "      <th>432</th>\n",
       "      <td>11602</td>\n",
       "      <td>0.0</td>\n",
       "      <td>Domaine des Comtes Lafon Volnay 1er Cru Santen...</td>\n",
       "      <td>product</td>\n",
       "      <td>5008</td>\n",
       "      <td>1</td>\n",
       "      <td>105.0</td>\n",
       "      <td>10</td>\n",
       "      <td>instock</td>\n",
       "      <td>0.0</td>\n",
       "      <td>2.607173</td>\n",
       "    </tr>\n",
       "    <tr>\n",
       "      <th>431</th>\n",
       "      <td>12791</td>\n",
       "      <td>0.0</td>\n",
       "      <td>Domaine des Comtes Lafon Volnay 1er Cru Santen...</td>\n",
       "      <td>product</td>\n",
       "      <td>5007</td>\n",
       "      <td>1</td>\n",
       "      <td>105.0</td>\n",
       "      <td>17</td>\n",
       "      <td>instock</td>\n",
       "      <td>0.0</td>\n",
       "      <td>2.607173</td>\n",
       "    </tr>\n",
       "    <tr>\n",
       "      <th>223</th>\n",
       "      <td>3509</td>\n",
       "      <td>1.0</td>\n",
       "      <td>Cognac Frapin Cigar Blend</td>\n",
       "      <td>product</td>\n",
       "      <td>4407</td>\n",
       "      <td>1</td>\n",
       "      <td>104.0</td>\n",
       "      <td>6</td>\n",
       "      <td>instock</td>\n",
       "      <td>104.0</td>\n",
       "      <td>2.571216</td>\n",
       "    </tr>\n",
       "    <tr>\n",
       "      <th>381</th>\n",
       "      <td>14805</td>\n",
       "      <td>0.0</td>\n",
       "      <td>Domaine Des Croix Corton Grand Cru Les Grèves ...</td>\n",
       "      <td>product</td>\n",
       "      <td>4903</td>\n",
       "      <td>1</td>\n",
       "      <td>102.3</td>\n",
       "      <td>20</td>\n",
       "      <td>instock</td>\n",
       "      <td>0.0</td>\n",
       "      <td>2.510088</td>\n",
       "    </tr>\n",
       "    <tr>\n",
       "      <th>64</th>\n",
       "      <td>15382</td>\n",
       "      <td>0.0</td>\n",
       "      <td>Zind-Humbrecht Riesling Grand Cru Rangen De Th...</td>\n",
       "      <td>product</td>\n",
       "      <td>4115</td>\n",
       "      <td>1</td>\n",
       "      <td>100.0</td>\n",
       "      <td>11</td>\n",
       "      <td>instock</td>\n",
       "      <td>0.0</td>\n",
       "      <td>2.427385</td>\n",
       "    </tr>\n",
       "    <tr>\n",
       "      <th>655</th>\n",
       "      <td>11601</td>\n",
       "      <td>0.0</td>\n",
       "      <td>Domaine des Comtes Lafon Volnay 1er Cru Champa...</td>\n",
       "      <td>product</td>\n",
       "      <td>6214</td>\n",
       "      <td>1</td>\n",
       "      <td>99.0</td>\n",
       "      <td>7</td>\n",
       "      <td>instock</td>\n",
       "      <td>0.0</td>\n",
       "      <td>2.391428</td>\n",
       "    </tr>\n",
       "    <tr>\n",
       "      <th>602</th>\n",
       "      <td>14774</td>\n",
       "      <td>0.0</td>\n",
       "      <td>Wemyss Malts Single Cask Scotch Whisky Chocola...</td>\n",
       "      <td>product</td>\n",
       "      <td>5916</td>\n",
       "      <td>1</td>\n",
       "      <td>93.0</td>\n",
       "      <td>3</td>\n",
       "      <td>instock</td>\n",
       "      <td>0.0</td>\n",
       "      <td>2.175682</td>\n",
       "    </tr>\n",
       "    <tr>\n",
       "      <th>502</th>\n",
       "      <td>19822</td>\n",
       "      <td>0.0</td>\n",
       "      <td>Tempier Bandol Cabassaou 2017</td>\n",
       "      <td>product</td>\n",
       "      <td>5565</td>\n",
       "      <td>1</td>\n",
       "      <td>92.0</td>\n",
       "      <td>0</td>\n",
       "      <td>outofstock</td>\n",
       "      <td>0.0</td>\n",
       "      <td>2.139725</td>\n",
       "    </tr>\n",
       "    <tr>\n",
       "      <th>66</th>\n",
       "      <td>11668</td>\n",
       "      <td>0.0</td>\n",
       "      <td>Zind-Humbrecht Pinot Gris Grand Cru Rangen De ...</td>\n",
       "      <td>product</td>\n",
       "      <td>4132</td>\n",
       "      <td>1</td>\n",
       "      <td>88.4</td>\n",
       "      <td>5</td>\n",
       "      <td>instock</td>\n",
       "      <td>0.0</td>\n",
       "      <td>2.010277</td>\n",
       "    </tr>\n",
       "  </tbody>\n",
       "</table>\n",
       "</div>"
      ],
      "text/plain": [
       "       sku  total_sales                                         post_title  \\\n",
       "200  15940          5.0     Champagne Egly-Ouriet Grand Cru Millésimé 2008   \n",
       "426  14581          0.0     David Duband Charmes-Chambertin Grand Cru 2014   \n",
       "587  14983          3.0  Coteaux Champenois Egly-Ouriet Ambonnay Rouge ...   \n",
       "219   3510         13.0                               Cognac Frapin VIP XO   \n",
       "553  15185          0.0                Camille Giroud Clos de Vougeot 2016   \n",
       "222   7819          0.0  Cognac Frapin Château de Fontpinot 1989 20 Ans...   \n",
       "382  14220          5.0  Domaine Des Croix Corton Charlemagne Grand Cru...   \n",
       "642  14923          2.0             Champagne Gosset Célébris Vintage 2007   \n",
       "202  12589         11.0     Champagne Egly-Ouriet Grand Cru Blanc de Noirs   \n",
       "511  14915          0.0  Domaine Weinbach Gewurztraminer Grand Cru Furs...   \n",
       "603  14775          0.0  Wemyss Malts Single Cask Scotch Whisky Choc 'n...   \n",
       "657  15070          0.0  Domaine des Comtes Lafon Volnay 1er Cru Champa...   \n",
       "654  15072          0.0  Domaine des Comtes Lafon Volnay 1er Cru Santen...   \n",
       "648  15126          0.0  Domaine Clerget Echezeaux Grand Cru En Orveaux...   \n",
       "656  12790          0.0  Domaine des Comtes Lafon Volnay 1er Cru Champa...   \n",
       "653  13996          2.0  Domaine des Comtes Lafon Volnay 1er Cru Santen...   \n",
       "604  14773          0.0  Wemyss Malts Single Cask Scotch Whisky Chai Ca...   \n",
       "437  13914          0.0  Champagne Agrapart &amp; Fils L'Avizoise Extra...   \n",
       "228  12857          0.0  Château de Meursault Puligny-Montrachet 1er Cr...   \n",
       "220   3507          2.0              Cognac Frapin Château de Fontpinot XO   \n",
       "647  14596          0.0  David Duband Chambolle-Musigny 1er Cru Les Sen...   \n",
       "432  11602          0.0  Domaine des Comtes Lafon Volnay 1er Cru Santen...   \n",
       "431  12791          0.0  Domaine des Comtes Lafon Volnay 1er Cru Santen...   \n",
       "223   3509          1.0                          Cognac Frapin Cigar Blend   \n",
       "381  14805          0.0  Domaine Des Croix Corton Grand Cru Les Grèves ...   \n",
       "64   15382          0.0  Zind-Humbrecht Riesling Grand Cru Rangen De Th...   \n",
       "655  11601          0.0  Domaine des Comtes Lafon Volnay 1er Cru Champa...   \n",
       "602  14774          0.0  Wemyss Malts Single Cask Scotch Whisky Chocola...   \n",
       "502  19822          0.0                      Tempier Bandol Cabassaou 2017   \n",
       "66   11668          0.0  Zind-Humbrecht Pinot Gris Grand Cru Rangen De ...   \n",
       "\n",
       "    post_type product_id  onsale_web  price  stock_quantity stock_status  \\\n",
       "200   product       4352           1  225.0               0   outofstock   \n",
       "426   product       5001           1  217.5              20      instock   \n",
       "587   product       5892           1  191.3              10      instock   \n",
       "219   product       4402           1  176.0               8      instock   \n",
       "553   product       5767           1  175.0              12      instock   \n",
       "222   product       4406           1  157.0               3      instock   \n",
       "382   product       4904           1  137.0              13      instock   \n",
       "642   product       6126           1  135.0              10      instock   \n",
       "202   product       4355           1  126.5               2      instock   \n",
       "511   product       5612           1  124.8              12      instock   \n",
       "603   product       5917           1  122.0               4      instock   \n",
       "657   product       6216           1  121.0               6      instock   \n",
       "654   product       6213           1  121.0               7      instock   \n",
       "648   product       6202           1  116.4              14      instock   \n",
       "656   product       6215           1  115.0               4      instock   \n",
       "653   product       6212           1  115.0               2      instock   \n",
       "604   product       5918           1  114.0               8      instock   \n",
       "437   product       5025           1  112.0               0   outofstock   \n",
       "228   product       4582           1  109.6               7      instock   \n",
       "220   product       4404           1  108.5               2      instock   \n",
       "647   product       6201           1  105.6               7      instock   \n",
       "432   product       5008           1  105.0              10      instock   \n",
       "431   product       5007           1  105.0              17      instock   \n",
       "223   product       4407           1  104.0               6      instock   \n",
       "381   product       4903           1  102.3              20      instock   \n",
       "64    product       4115           1  100.0              11      instock   \n",
       "655   product       6214           1   99.0               7      instock   \n",
       "602   product       5916           1   93.0               3      instock   \n",
       "502   product       5565           1   92.0               0   outofstock   \n",
       "66    product       4132           1   88.4               5      instock   \n",
       "\n",
       "     Chiffre d'affaires   Z-score  \n",
       "200              1125.0  6.922087  \n",
       "426                 0.0  6.652405  \n",
       "587               573.9  5.710315  \n",
       "219              2288.0  5.160164  \n",
       "553                 0.0  5.124206  \n",
       "222                 0.0  4.476969  \n",
       "382               685.0  3.757817  \n",
       "642               270.0  3.685902  \n",
       "202              1391.5  3.380262  \n",
       "511                 0.0  3.319134  \n",
       "603                 0.0  3.218453  \n",
       "657                 0.0  3.182495  \n",
       "654                 0.0  3.182495  \n",
       "648                 0.0  3.017090  \n",
       "656                 0.0  2.966750  \n",
       "653               230.0  2.966750  \n",
       "604                 0.0  2.930792  \n",
       "437                 0.0  2.858877  \n",
       "228                 0.0  2.772578  \n",
       "220               217.0  2.733025  \n",
       "647                 0.0  2.628748  \n",
       "432                 0.0  2.607173  \n",
       "431                 0.0  2.607173  \n",
       "223               104.0  2.571216  \n",
       "381                 0.0  2.510088  \n",
       "64                  0.0  2.427385  \n",
       "655                 0.0  2.391428  \n",
       "602                 0.0  2.175682  \n",
       "502                 0.0  2.139725  \n",
       "66                  0.0  2.010277  "
      ]
     },
     "execution_count": 31,
     "metadata": {},
     "output_type": "execute_result"
    }
   ],
   "source": [
    "# Affichons les outliers dans un tableau\n",
    "outliers = outliers.sort_values('Z-score', ascending=False)\n",
    "outliers"
   ]
  },
  {
   "cell_type": "code",
   "execution_count": 32,
   "id": "bcca48c4",
   "metadata": {
    "slideshow": {
     "slide_type": "skip"
    }
   },
   "outputs": [
    {
     "name": "stdout",
     "output_type": "stream",
     "text": [
      "Nous pouvons trouver 30 outliers avec la méthode du Z-score.\n"
     ]
    }
   ],
   "source": [
    "print(f\"Nous pouvons trouver {len(outliers)} outliers avec la méthode du Z-score.\")"
   ]
  },
  {
   "cell_type": "markdown",
   "id": "ca073b16",
   "metadata": {
    "slideshow": {
     "slide_type": "subslide"
    }
   },
   "source": [
    "### 4.2. Calcul de l'écart interquartile des prix <a class=\"anchor\" id=\"4_2\"></a>"
   ]
  },
  {
   "cell_type": "code",
   "execution_count": 33,
   "id": "ed059265",
   "metadata": {
    "slideshow": {
     "slide_type": "-"
    }
   },
   "outputs": [
    {
     "data": {
      "text/html": [
       "<div>\n",
       "<style scoped>\n",
       "    .dataframe tbody tr th:only-of-type {\n",
       "        vertical-align: middle;\n",
       "    }\n",
       "\n",
       "    .dataframe tbody tr th {\n",
       "        vertical-align: top;\n",
       "    }\n",
       "\n",
       "    .dataframe thead th {\n",
       "        text-align: right;\n",
       "    }\n",
       "</style>\n",
       "<table border=\"1\" class=\"dataframe\">\n",
       "  <thead>\n",
       "    <tr style=\"text-align: right;\">\n",
       "      <th></th>\n",
       "      <th>total_sales</th>\n",
       "      <th>onsale_web</th>\n",
       "      <th>price</th>\n",
       "      <th>stock_quantity</th>\n",
       "      <th>Chiffre d'affaires</th>\n",
       "      <th>Z-score</th>\n",
       "    </tr>\n",
       "  </thead>\n",
       "  <tbody>\n",
       "    <tr>\n",
       "      <th>count</th>\n",
       "      <td>714.000000</td>\n",
       "      <td>714.0</td>\n",
       "      <td>714.000000</td>\n",
       "      <td>714.000000</td>\n",
       "      <td>714.000000</td>\n",
       "      <td>7.140000e+02</td>\n",
       "    </tr>\n",
       "    <tr>\n",
       "      <th>mean</th>\n",
       "      <td>4.012605</td>\n",
       "      <td>1.0</td>\n",
       "      <td>32.493137</td>\n",
       "      <td>28.746499</td>\n",
       "      <td>98.835574</td>\n",
       "      <td>9.951579e-18</td>\n",
       "    </tr>\n",
       "    <tr>\n",
       "      <th>std</th>\n",
       "      <td>8.518183</td>\n",
       "      <td>0.0</td>\n",
       "      <td>27.810525</td>\n",
       "      <td>48.012608</td>\n",
       "      <td>307.685071</td>\n",
       "      <td>1.000000e+00</td>\n",
       "    </tr>\n",
       "    <tr>\n",
       "      <th>min</th>\n",
       "      <td>0.000000</td>\n",
       "      <td>1.0</td>\n",
       "      <td>5.200000</td>\n",
       "      <td>0.000000</td>\n",
       "      <td>0.000000</td>\n",
       "      <td>-9.813960e-01</td>\n",
       "    </tr>\n",
       "    <tr>\n",
       "      <th>25%</th>\n",
       "      <td>0.000000</td>\n",
       "      <td>1.0</td>\n",
       "      <td>14.100000</td>\n",
       "      <td>2.000000</td>\n",
       "      <td>0.000000</td>\n",
       "      <td>-6.613733e-01</td>\n",
       "    </tr>\n",
       "    <tr>\n",
       "      <th>50%</th>\n",
       "      <td>1.000000</td>\n",
       "      <td>1.0</td>\n",
       "      <td>23.550000</td>\n",
       "      <td>12.000000</td>\n",
       "      <td>15.250000</td>\n",
       "      <td>-3.215738e-01</td>\n",
       "    </tr>\n",
       "    <tr>\n",
       "      <th>75%</th>\n",
       "      <td>4.000000</td>\n",
       "      <td>1.0</td>\n",
       "      <td>42.175000</td>\n",
       "      <td>35.000000</td>\n",
       "      <td>91.150000</td>\n",
       "      <td>3.481366e-01</td>\n",
       "    </tr>\n",
       "    <tr>\n",
       "      <th>max</th>\n",
       "      <td>96.000000</td>\n",
       "      <td>1.0</td>\n",
       "      <td>225.000000</td>\n",
       "      <td>578.000000</td>\n",
       "      <td>4704.000000</td>\n",
       "      <td>6.922087e+00</td>\n",
       "    </tr>\n",
       "  </tbody>\n",
       "</table>\n",
       "</div>"
      ],
      "text/plain": [
       "       total_sales  onsale_web       price  stock_quantity  \\\n",
       "count   714.000000       714.0  714.000000      714.000000   \n",
       "mean      4.012605         1.0   32.493137       28.746499   \n",
       "std       8.518183         0.0   27.810525       48.012608   \n",
       "min       0.000000         1.0    5.200000        0.000000   \n",
       "25%       0.000000         1.0   14.100000        2.000000   \n",
       "50%       1.000000         1.0   23.550000       12.000000   \n",
       "75%       4.000000         1.0   42.175000       35.000000   \n",
       "max      96.000000         1.0  225.000000      578.000000   \n",
       "\n",
       "       Chiffre d'affaires       Z-score  \n",
       "count          714.000000  7.140000e+02  \n",
       "mean            98.835574  9.951579e-18  \n",
       "std            307.685071  1.000000e+00  \n",
       "min              0.000000 -9.813960e-01  \n",
       "25%              0.000000 -6.613733e-01  \n",
       "50%             15.250000 -3.215738e-01  \n",
       "75%             91.150000  3.481366e-01  \n",
       "max           4704.000000  6.922087e+00  "
      ]
     },
     "execution_count": 33,
     "metadata": {},
     "output_type": "execute_result"
    }
   ],
   "source": [
    "describe_erp_web = erp_web.describe()\n",
    "describe_erp_web"
   ]
  },
  {
   "cell_type": "markdown",
   "id": "1877ea61",
   "metadata": {
    "slideshow": {
     "slide_type": "-"
    }
   },
   "source": [
    "On peut voir ci-dessus que l'on a 75% des prix qui se situent en dessous de 42.17€. Le maximum étant de 225€, il y a une grande disparité entre le prix maximum et le reste des prix. "
   ]
  },
  {
   "cell_type": "code",
   "execution_count": 34,
   "id": "400d4312",
   "metadata": {
    "slideshow": {
     "slide_type": "subslide"
    }
   },
   "outputs": [
    {
     "data": {
      "image/png": "[encoded data removed]",
      "text/plain": [
       "<Figure size 2000x700 with 1 Axes>"
      ]
     },
     "metadata": {},
     "output_type": "display_data"
    }
   ],
   "source": [
    "# Utilisons une boxplot pour visualiser cela\n",
    "plt.figure(figsize=(20,7))\n",
    "sns.set_style('whitegrid')\n",
    "sns.boxplot(x=erp_web['price'])\n",
    "plt.title('Répartition des prix des bouteilles', fontsize=22, y=1.05)\n",
    "plt.xlabel('prix des bouteilles (en €)', fontsize=15)\n",
    "plt.xticks(np.arange(0,240,10))\n",
    "plt.tick_params(labelsize=12)\n",
    "plt.show()"
   ]
  },
  {
   "cell_type": "code",
   "execution_count": 35,
   "id": "d8f130dc",
   "metadata": {
    "slideshow": {
     "slide_type": "subslide"
    }
   },
   "outputs": [
    {
     "name": "stdout",
     "output_type": "stream",
     "text": [
      "L'écart interquartile des prix est de 28.08€.\n"
     ]
    }
   ],
   "source": [
    "# Calculons Q1 et Q3\n",
    "Q1 = describe_erp_web.loc['25%', 'price']\n",
    "Q3 = describe_erp_web.loc['75%', 'price']\n",
    "\n",
    "# Calculons ensuite l'écart intercartile 'IQR'\n",
    "IQR = Q3 - Q1\n",
    "\n",
    "print(f\"L'écart interquartile des prix est de {round(IQR,2)}€.\")"
   ]
  },
  {
   "cell_type": "code",
   "execution_count": 36,
   "id": "5e5ead43",
   "metadata": {
    "slideshow": {
     "slide_type": "-"
    }
   },
   "outputs": [
    {
     "data": {
      "text/html": [
       "<div>\n",
       "<style scoped>\n",
       "    .dataframe tbody tr th:only-of-type {\n",
       "        vertical-align: middle;\n",
       "    }\n",
       "\n",
       "    .dataframe tbody tr th {\n",
       "        vertical-align: top;\n",
       "    }\n",
       "\n",
       "    .dataframe thead th {\n",
       "        text-align: right;\n",
       "    }\n",
       "</style>\n",
       "<table border=\"1\" class=\"dataframe\">\n",
       "  <thead>\n",
       "    <tr style=\"text-align: right;\">\n",
       "      <th></th>\n",
       "      <th>sku</th>\n",
       "      <th>total_sales</th>\n",
       "      <th>post_title</th>\n",
       "      <th>post_type</th>\n",
       "      <th>product_id</th>\n",
       "      <th>onsale_web</th>\n",
       "      <th>price</th>\n",
       "      <th>stock_quantity</th>\n",
       "      <th>stock_status</th>\n",
       "      <th>Chiffre d'affaires</th>\n",
       "      <th>Z-score</th>\n",
       "    </tr>\n",
       "  </thead>\n",
       "  <tbody>\n",
       "    <tr>\n",
       "      <th>200</th>\n",
       "      <td>15940</td>\n",
       "      <td>5.0</td>\n",
       "      <td>Champagne Egly-Ouriet Grand Cru Millésimé 2008</td>\n",
       "      <td>product</td>\n",
       "      <td>4352</td>\n",
       "      <td>1</td>\n",
       "      <td>225.0</td>\n",
       "      <td>0</td>\n",
       "      <td>outofstock</td>\n",
       "      <td>1125.0</td>\n",
       "      <td>6.922087</td>\n",
       "    </tr>\n",
       "    <tr>\n",
       "      <th>426</th>\n",
       "      <td>14581</td>\n",
       "      <td>0.0</td>\n",
       "      <td>David Duband Charmes-Chambertin Grand Cru 2014</td>\n",
       "      <td>product</td>\n",
       "      <td>5001</td>\n",
       "      <td>1</td>\n",
       "      <td>217.5</td>\n",
       "      <td>20</td>\n",
       "      <td>instock</td>\n",
       "      <td>0.0</td>\n",
       "      <td>6.652405</td>\n",
       "    </tr>\n",
       "    <tr>\n",
       "      <th>587</th>\n",
       "      <td>14983</td>\n",
       "      <td>3.0</td>\n",
       "      <td>Coteaux Champenois Egly-Ouriet Ambonnay Rouge ...</td>\n",
       "      <td>product</td>\n",
       "      <td>5892</td>\n",
       "      <td>1</td>\n",
       "      <td>191.3</td>\n",
       "      <td>10</td>\n",
       "      <td>instock</td>\n",
       "      <td>573.9</td>\n",
       "      <td>5.710315</td>\n",
       "    </tr>\n",
       "    <tr>\n",
       "      <th>219</th>\n",
       "      <td>3510</td>\n",
       "      <td>13.0</td>\n",
       "      <td>Cognac Frapin VIP XO</td>\n",
       "      <td>product</td>\n",
       "      <td>4402</td>\n",
       "      <td>1</td>\n",
       "      <td>176.0</td>\n",
       "      <td>8</td>\n",
       "      <td>instock</td>\n",
       "      <td>2288.0</td>\n",
       "      <td>5.160164</td>\n",
       "    </tr>\n",
       "    <tr>\n",
       "      <th>553</th>\n",
       "      <td>15185</td>\n",
       "      <td>0.0</td>\n",
       "      <td>Camille Giroud Clos de Vougeot 2016</td>\n",
       "      <td>product</td>\n",
       "      <td>5767</td>\n",
       "      <td>1</td>\n",
       "      <td>175.0</td>\n",
       "      <td>12</td>\n",
       "      <td>instock</td>\n",
       "      <td>0.0</td>\n",
       "      <td>5.124206</td>\n",
       "    </tr>\n",
       "    <tr>\n",
       "      <th>222</th>\n",
       "      <td>7819</td>\n",
       "      <td>0.0</td>\n",
       "      <td>Cognac Frapin Château de Fontpinot 1989 20 Ans...</td>\n",
       "      <td>product</td>\n",
       "      <td>4406</td>\n",
       "      <td>1</td>\n",
       "      <td>157.0</td>\n",
       "      <td>3</td>\n",
       "      <td>instock</td>\n",
       "      <td>0.0</td>\n",
       "      <td>4.476969</td>\n",
       "    </tr>\n",
       "    <tr>\n",
       "      <th>382</th>\n",
       "      <td>14220</td>\n",
       "      <td>5.0</td>\n",
       "      <td>Domaine Des Croix Corton Charlemagne Grand Cru...</td>\n",
       "      <td>product</td>\n",
       "      <td>4904</td>\n",
       "      <td>1</td>\n",
       "      <td>137.0</td>\n",
       "      <td>13</td>\n",
       "      <td>instock</td>\n",
       "      <td>685.0</td>\n",
       "      <td>3.757817</td>\n",
       "    </tr>\n",
       "    <tr>\n",
       "      <th>642</th>\n",
       "      <td>14923</td>\n",
       "      <td>2.0</td>\n",
       "      <td>Champagne Gosset Célébris Vintage 2007</td>\n",
       "      <td>product</td>\n",
       "      <td>6126</td>\n",
       "      <td>1</td>\n",
       "      <td>135.0</td>\n",
       "      <td>10</td>\n",
       "      <td>instock</td>\n",
       "      <td>270.0</td>\n",
       "      <td>3.685902</td>\n",
       "    </tr>\n",
       "    <tr>\n",
       "      <th>202</th>\n",
       "      <td>12589</td>\n",
       "      <td>11.0</td>\n",
       "      <td>Champagne Egly-Ouriet Grand Cru Blanc de Noirs</td>\n",
       "      <td>product</td>\n",
       "      <td>4355</td>\n",
       "      <td>1</td>\n",
       "      <td>126.5</td>\n",
       "      <td>2</td>\n",
       "      <td>instock</td>\n",
       "      <td>1391.5</td>\n",
       "      <td>3.380262</td>\n",
       "    </tr>\n",
       "    <tr>\n",
       "      <th>511</th>\n",
       "      <td>14915</td>\n",
       "      <td>0.0</td>\n",
       "      <td>Domaine Weinbach Gewurztraminer Grand Cru Furs...</td>\n",
       "      <td>product</td>\n",
       "      <td>5612</td>\n",
       "      <td>1</td>\n",
       "      <td>124.8</td>\n",
       "      <td>12</td>\n",
       "      <td>instock</td>\n",
       "      <td>0.0</td>\n",
       "      <td>3.319134</td>\n",
       "    </tr>\n",
       "    <tr>\n",
       "      <th>603</th>\n",
       "      <td>14775</td>\n",
       "      <td>0.0</td>\n",
       "      <td>Wemyss Malts Single Cask Scotch Whisky Choc 'n...</td>\n",
       "      <td>product</td>\n",
       "      <td>5917</td>\n",
       "      <td>1</td>\n",
       "      <td>122.0</td>\n",
       "      <td>4</td>\n",
       "      <td>instock</td>\n",
       "      <td>0.0</td>\n",
       "      <td>3.218453</td>\n",
       "    </tr>\n",
       "    <tr>\n",
       "      <th>654</th>\n",
       "      <td>15072</td>\n",
       "      <td>0.0</td>\n",
       "      <td>Domaine des Comtes Lafon Volnay 1er Cru Santen...</td>\n",
       "      <td>product</td>\n",
       "      <td>6213</td>\n",
       "      <td>1</td>\n",
       "      <td>121.0</td>\n",
       "      <td>7</td>\n",
       "      <td>instock</td>\n",
       "      <td>0.0</td>\n",
       "      <td>3.182495</td>\n",
       "    </tr>\n",
       "    <tr>\n",
       "      <th>657</th>\n",
       "      <td>15070</td>\n",
       "      <td>0.0</td>\n",
       "      <td>Domaine des Comtes Lafon Volnay 1er Cru Champa...</td>\n",
       "      <td>product</td>\n",
       "      <td>6216</td>\n",
       "      <td>1</td>\n",
       "      <td>121.0</td>\n",
       "      <td>6</td>\n",
       "      <td>instock</td>\n",
       "      <td>0.0</td>\n",
       "      <td>3.182495</td>\n",
       "    </tr>\n",
       "    <tr>\n",
       "      <th>648</th>\n",
       "      <td>15126</td>\n",
       "      <td>0.0</td>\n",
       "      <td>Domaine Clerget Echezeaux Grand Cru En Orveaux...</td>\n",
       "      <td>product</td>\n",
       "      <td>6202</td>\n",
       "      <td>1</td>\n",
       "      <td>116.4</td>\n",
       "      <td>14</td>\n",
       "      <td>instock</td>\n",
       "      <td>0.0</td>\n",
       "      <td>3.017090</td>\n",
       "    </tr>\n",
       "    <tr>\n",
       "      <th>653</th>\n",
       "      <td>13996</td>\n",
       "      <td>2.0</td>\n",
       "      <td>Domaine des Comtes Lafon Volnay 1er Cru Santen...</td>\n",
       "      <td>product</td>\n",
       "      <td>6212</td>\n",
       "      <td>1</td>\n",
       "      <td>115.0</td>\n",
       "      <td>2</td>\n",
       "      <td>instock</td>\n",
       "      <td>230.0</td>\n",
       "      <td>2.966750</td>\n",
       "    </tr>\n",
       "    <tr>\n",
       "      <th>656</th>\n",
       "      <td>12790</td>\n",
       "      <td>0.0</td>\n",
       "      <td>Domaine des Comtes Lafon Volnay 1er Cru Champa...</td>\n",
       "      <td>product</td>\n",
       "      <td>6215</td>\n",
       "      <td>1</td>\n",
       "      <td>115.0</td>\n",
       "      <td>4</td>\n",
       "      <td>instock</td>\n",
       "      <td>0.0</td>\n",
       "      <td>2.966750</td>\n",
       "    </tr>\n",
       "    <tr>\n",
       "      <th>604</th>\n",
       "      <td>14773</td>\n",
       "      <td>0.0</td>\n",
       "      <td>Wemyss Malts Single Cask Scotch Whisky Chai Ca...</td>\n",
       "      <td>product</td>\n",
       "      <td>5918</td>\n",
       "      <td>1</td>\n",
       "      <td>114.0</td>\n",
       "      <td>8</td>\n",
       "      <td>instock</td>\n",
       "      <td>0.0</td>\n",
       "      <td>2.930792</td>\n",
       "    </tr>\n",
       "    <tr>\n",
       "      <th>437</th>\n",
       "      <td>13914</td>\n",
       "      <td>0.0</td>\n",
       "      <td>Champagne Agrapart &amp;amp; Fils L'Avizoise Extra...</td>\n",
       "      <td>product</td>\n",
       "      <td>5025</td>\n",
       "      <td>1</td>\n",
       "      <td>112.0</td>\n",
       "      <td>0</td>\n",
       "      <td>outofstock</td>\n",
       "      <td>0.0</td>\n",
       "      <td>2.858877</td>\n",
       "    </tr>\n",
       "    <tr>\n",
       "      <th>228</th>\n",
       "      <td>12857</td>\n",
       "      <td>0.0</td>\n",
       "      <td>Château de Meursault Puligny-Montrachet 1er Cr...</td>\n",
       "      <td>product</td>\n",
       "      <td>4582</td>\n",
       "      <td>1</td>\n",
       "      <td>109.6</td>\n",
       "      <td>7</td>\n",
       "      <td>instock</td>\n",
       "      <td>0.0</td>\n",
       "      <td>2.772578</td>\n",
       "    </tr>\n",
       "    <tr>\n",
       "      <th>220</th>\n",
       "      <td>3507</td>\n",
       "      <td>2.0</td>\n",
       "      <td>Cognac Frapin Château de Fontpinot XO</td>\n",
       "      <td>product</td>\n",
       "      <td>4404</td>\n",
       "      <td>1</td>\n",
       "      <td>108.5</td>\n",
       "      <td>2</td>\n",
       "      <td>instock</td>\n",
       "      <td>217.0</td>\n",
       "      <td>2.733025</td>\n",
       "    </tr>\n",
       "    <tr>\n",
       "      <th>647</th>\n",
       "      <td>14596</td>\n",
       "      <td>0.0</td>\n",
       "      <td>David Duband Chambolle-Musigny 1er Cru Les Sen...</td>\n",
       "      <td>product</td>\n",
       "      <td>6201</td>\n",
       "      <td>1</td>\n",
       "      <td>105.6</td>\n",
       "      <td>7</td>\n",
       "      <td>instock</td>\n",
       "      <td>0.0</td>\n",
       "      <td>2.628748</td>\n",
       "    </tr>\n",
       "    <tr>\n",
       "      <th>431</th>\n",
       "      <td>12791</td>\n",
       "      <td>0.0</td>\n",
       "      <td>Domaine des Comtes Lafon Volnay 1er Cru Santen...</td>\n",
       "      <td>product</td>\n",
       "      <td>5007</td>\n",
       "      <td>1</td>\n",
       "      <td>105.0</td>\n",
       "      <td>17</td>\n",
       "      <td>instock</td>\n",
       "      <td>0.0</td>\n",
       "      <td>2.607173</td>\n",
       "    </tr>\n",
       "    <tr>\n",
       "      <th>432</th>\n",
       "      <td>11602</td>\n",
       "      <td>0.0</td>\n",
       "      <td>Domaine des Comtes Lafon Volnay 1er Cru Santen...</td>\n",
       "      <td>product</td>\n",
       "      <td>5008</td>\n",
       "      <td>1</td>\n",
       "      <td>105.0</td>\n",
       "      <td>10</td>\n",
       "      <td>instock</td>\n",
       "      <td>0.0</td>\n",
       "      <td>2.607173</td>\n",
       "    </tr>\n",
       "    <tr>\n",
       "      <th>223</th>\n",
       "      <td>3509</td>\n",
       "      <td>1.0</td>\n",
       "      <td>Cognac Frapin Cigar Blend</td>\n",
       "      <td>product</td>\n",
       "      <td>4407</td>\n",
       "      <td>1</td>\n",
       "      <td>104.0</td>\n",
       "      <td>6</td>\n",
       "      <td>instock</td>\n",
       "      <td>104.0</td>\n",
       "      <td>2.571216</td>\n",
       "    </tr>\n",
       "    <tr>\n",
       "      <th>381</th>\n",
       "      <td>14805</td>\n",
       "      <td>0.0</td>\n",
       "      <td>Domaine Des Croix Corton Grand Cru Les Grèves ...</td>\n",
       "      <td>product</td>\n",
       "      <td>4903</td>\n",
       "      <td>1</td>\n",
       "      <td>102.3</td>\n",
       "      <td>20</td>\n",
       "      <td>instock</td>\n",
       "      <td>0.0</td>\n",
       "      <td>2.510088</td>\n",
       "    </tr>\n",
       "    <tr>\n",
       "      <th>64</th>\n",
       "      <td>15382</td>\n",
       "      <td>0.0</td>\n",
       "      <td>Zind-Humbrecht Riesling Grand Cru Rangen De Th...</td>\n",
       "      <td>product</td>\n",
       "      <td>4115</td>\n",
       "      <td>1</td>\n",
       "      <td>100.0</td>\n",
       "      <td>11</td>\n",
       "      <td>instock</td>\n",
       "      <td>0.0</td>\n",
       "      <td>2.427385</td>\n",
       "    </tr>\n",
       "    <tr>\n",
       "      <th>655</th>\n",
       "      <td>11601</td>\n",
       "      <td>0.0</td>\n",
       "      <td>Domaine des Comtes Lafon Volnay 1er Cru Champa...</td>\n",
       "      <td>product</td>\n",
       "      <td>6214</td>\n",
       "      <td>1</td>\n",
       "      <td>99.0</td>\n",
       "      <td>7</td>\n",
       "      <td>instock</td>\n",
       "      <td>0.0</td>\n",
       "      <td>2.391428</td>\n",
       "    </tr>\n",
       "    <tr>\n",
       "      <th>602</th>\n",
       "      <td>14774</td>\n",
       "      <td>0.0</td>\n",
       "      <td>Wemyss Malts Single Cask Scotch Whisky Chocola...</td>\n",
       "      <td>product</td>\n",
       "      <td>5916</td>\n",
       "      <td>1</td>\n",
       "      <td>93.0</td>\n",
       "      <td>3</td>\n",
       "      <td>instock</td>\n",
       "      <td>0.0</td>\n",
       "      <td>2.175682</td>\n",
       "    </tr>\n",
       "    <tr>\n",
       "      <th>502</th>\n",
       "      <td>19822</td>\n",
       "      <td>0.0</td>\n",
       "      <td>Tempier Bandol Cabassaou 2017</td>\n",
       "      <td>product</td>\n",
       "      <td>5565</td>\n",
       "      <td>1</td>\n",
       "      <td>92.0</td>\n",
       "      <td>0</td>\n",
       "      <td>outofstock</td>\n",
       "      <td>0.0</td>\n",
       "      <td>2.139725</td>\n",
       "    </tr>\n",
       "    <tr>\n",
       "      <th>66</th>\n",
       "      <td>11668</td>\n",
       "      <td>0.0</td>\n",
       "      <td>Zind-Humbrecht Pinot Gris Grand Cru Rangen De ...</td>\n",
       "      <td>product</td>\n",
       "      <td>4132</td>\n",
       "      <td>1</td>\n",
       "      <td>88.4</td>\n",
       "      <td>5</td>\n",
       "      <td>instock</td>\n",
       "      <td>0.0</td>\n",
       "      <td>2.010277</td>\n",
       "    </tr>\n",
       "    <tr>\n",
       "      <th>438</th>\n",
       "      <td>13913</td>\n",
       "      <td>0.0</td>\n",
       "      <td>Champagne Agrapart &amp;amp; Fils Minéral Extra Br...</td>\n",
       "      <td>product</td>\n",
       "      <td>5026</td>\n",
       "      <td>1</td>\n",
       "      <td>86.8</td>\n",
       "      <td>2</td>\n",
       "      <td>instock</td>\n",
       "      <td>0.0</td>\n",
       "      <td>1.952745</td>\n",
       "    </tr>\n",
       "    <tr>\n",
       "      <th>206</th>\n",
       "      <td>13853</td>\n",
       "      <td>1.0</td>\n",
       "      <td>Champagne Larmandier-Bernier Grand Cru Les Che...</td>\n",
       "      <td>product</td>\n",
       "      <td>4359</td>\n",
       "      <td>1</td>\n",
       "      <td>85.6</td>\n",
       "      <td>0</td>\n",
       "      <td>outofstock</td>\n",
       "      <td>85.6</td>\n",
       "      <td>1.909596</td>\n",
       "    </tr>\n",
       "  </tbody>\n",
       "</table>\n",
       "</div>"
      ],
      "text/plain": [
       "       sku  total_sales                                         post_title  \\\n",
       "200  15940          5.0     Champagne Egly-Ouriet Grand Cru Millésimé 2008   \n",
       "426  14581          0.0     David Duband Charmes-Chambertin Grand Cru 2014   \n",
       "587  14983          3.0  Coteaux Champenois Egly-Ouriet Ambonnay Rouge ...   \n",
       "219   3510         13.0                               Cognac Frapin VIP XO   \n",
       "553  15185          0.0                Camille Giroud Clos de Vougeot 2016   \n",
       "222   7819          0.0  Cognac Frapin Château de Fontpinot 1989 20 Ans...   \n",
       "382  14220          5.0  Domaine Des Croix Corton Charlemagne Grand Cru...   \n",
       "642  14923          2.0             Champagne Gosset Célébris Vintage 2007   \n",
       "202  12589         11.0     Champagne Egly-Ouriet Grand Cru Blanc de Noirs   \n",
       "511  14915          0.0  Domaine Weinbach Gewurztraminer Grand Cru Furs...   \n",
       "603  14775          0.0  Wemyss Malts Single Cask Scotch Whisky Choc 'n...   \n",
       "654  15072          0.0  Domaine des Comtes Lafon Volnay 1er Cru Santen...   \n",
       "657  15070          0.0  Domaine des Comtes Lafon Volnay 1er Cru Champa...   \n",
       "648  15126          0.0  Domaine Clerget Echezeaux Grand Cru En Orveaux...   \n",
       "653  13996          2.0  Domaine des Comtes Lafon Volnay 1er Cru Santen...   \n",
       "656  12790          0.0  Domaine des Comtes Lafon Volnay 1er Cru Champa...   \n",
       "604  14773          0.0  Wemyss Malts Single Cask Scotch Whisky Chai Ca...   \n",
       "437  13914          0.0  Champagne Agrapart &amp; Fils L'Avizoise Extra...   \n",
       "228  12857          0.0  Château de Meursault Puligny-Montrachet 1er Cr...   \n",
       "220   3507          2.0              Cognac Frapin Château de Fontpinot XO   \n",
       "647  14596          0.0  David Duband Chambolle-Musigny 1er Cru Les Sen...   \n",
       "431  12791          0.0  Domaine des Comtes Lafon Volnay 1er Cru Santen...   \n",
       "432  11602          0.0  Domaine des Comtes Lafon Volnay 1er Cru Santen...   \n",
       "223   3509          1.0                          Cognac Frapin Cigar Blend   \n",
       "381  14805          0.0  Domaine Des Croix Corton Grand Cru Les Grèves ...   \n",
       "64   15382          0.0  Zind-Humbrecht Riesling Grand Cru Rangen De Th...   \n",
       "655  11601          0.0  Domaine des Comtes Lafon Volnay 1er Cru Champa...   \n",
       "602  14774          0.0  Wemyss Malts Single Cask Scotch Whisky Chocola...   \n",
       "502  19822          0.0                      Tempier Bandol Cabassaou 2017   \n",
       "66   11668          0.0  Zind-Humbrecht Pinot Gris Grand Cru Rangen De ...   \n",
       "438  13913          0.0  Champagne Agrapart &amp; Fils Minéral Extra Br...   \n",
       "206  13853          1.0  Champagne Larmandier-Bernier Grand Cru Les Che...   \n",
       "\n",
       "    post_type product_id  onsale_web  price  stock_quantity stock_status  \\\n",
       "200   product       4352           1  225.0               0   outofstock   \n",
       "426   product       5001           1  217.5              20      instock   \n",
       "587   product       5892           1  191.3              10      instock   \n",
       "219   product       4402           1  176.0               8      instock   \n",
       "553   product       5767           1  175.0              12      instock   \n",
       "222   product       4406           1  157.0               3      instock   \n",
       "382   product       4904           1  137.0              13      instock   \n",
       "642   product       6126           1  135.0              10      instock   \n",
       "202   product       4355           1  126.5               2      instock   \n",
       "511   product       5612           1  124.8              12      instock   \n",
       "603   product       5917           1  122.0               4      instock   \n",
       "654   product       6213           1  121.0               7      instock   \n",
       "657   product       6216           1  121.0               6      instock   \n",
       "648   product       6202           1  116.4              14      instock   \n",
       "653   product       6212           1  115.0               2      instock   \n",
       "656   product       6215           1  115.0               4      instock   \n",
       "604   product       5918           1  114.0               8      instock   \n",
       "437   product       5025           1  112.0               0   outofstock   \n",
       "228   product       4582           1  109.6               7      instock   \n",
       "220   product       4404           1  108.5               2      instock   \n",
       "647   product       6201           1  105.6               7      instock   \n",
       "431   product       5007           1  105.0              17      instock   \n",
       "432   product       5008           1  105.0              10      instock   \n",
       "223   product       4407           1  104.0               6      instock   \n",
       "381   product       4903           1  102.3              20      instock   \n",
       "64    product       4115           1  100.0              11      instock   \n",
       "655   product       6214           1   99.0               7      instock   \n",
       "602   product       5916           1   93.0               3      instock   \n",
       "502   product       5565           1   92.0               0   outofstock   \n",
       "66    product       4132           1   88.4               5      instock   \n",
       "438   product       5026           1   86.8               2      instock   \n",
       "206   product       4359           1   85.6               0   outofstock   \n",
       "\n",
       "     Chiffre d'affaires   Z-score  \n",
       "200              1125.0  6.922087  \n",
       "426                 0.0  6.652405  \n",
       "587               573.9  5.710315  \n",
       "219              2288.0  5.160164  \n",
       "553                 0.0  5.124206  \n",
       "222                 0.0  4.476969  \n",
       "382               685.0  3.757817  \n",
       "642               270.0  3.685902  \n",
       "202              1391.5  3.380262  \n",
       "511                 0.0  3.319134  \n",
       "603                 0.0  3.218453  \n",
       "654                 0.0  3.182495  \n",
       "657                 0.0  3.182495  \n",
       "648                 0.0  3.017090  \n",
       "653               230.0  2.966750  \n",
       "656                 0.0  2.966750  \n",
       "604                 0.0  2.930792  \n",
       "437                 0.0  2.858877  \n",
       "228                 0.0  2.772578  \n",
       "220               217.0  2.733025  \n",
       "647                 0.0  2.628748  \n",
       "431                 0.0  2.607173  \n",
       "432                 0.0  2.607173  \n",
       "223               104.0  2.571216  \n",
       "381                 0.0  2.510088  \n",
       "64                  0.0  2.427385  \n",
       "655                 0.0  2.391428  \n",
       "602                 0.0  2.175682  \n",
       "502                 0.0  2.139725  \n",
       "66                  0.0  2.010277  \n",
       "438                 0.0  1.952745  \n",
       "206                85.6  1.909596  "
      ]
     },
     "execution_count": 36,
     "metadata": {},
     "output_type": "execute_result"
    }
   ],
   "source": [
    "# Déterminons les bornes inférieure et supérieure de l'écart interquartile\n",
    "borne_inférieure = Q1-1.5*IQR\n",
    "borne_supérieure = Q3+1.5*IQR\n",
    "\n",
    "#Identifions les outliers avec cette méthode\n",
    "outliers_IQR = erp_web[(erp_web['price'] < borne_inférieure) | (erp_web['price'] > borne_supérieure)]\n",
    "outliers_IQR.sort_values('price', ascending=False)"
   ]
  },
  {
   "cell_type": "code",
   "execution_count": 37,
   "id": "a87b8c8a",
   "metadata": {
    "slideshow": {
     "slide_type": "skip"
    }
   },
   "outputs": [
    {
     "name": "stdout",
     "output_type": "stream",
     "text": [
      "Nous pouvons trouver 32 outliers avec la méthode de l'écart interquartile.\n"
     ]
    }
   ],
   "source": [
    "print(f\"Nous pouvons trouver {len(outliers_IQR)} outliers avec la méthode de l'écart interquartile.\")"
   ]
  },
  {
   "cell_type": "markdown",
   "id": "1a8eadb4",
   "metadata": {
    "slideshow": {
     "slide_type": "skip"
    }
   },
   "source": [
    "Nous garderons donc les outliers de la méthode de l'écart interquartille pour pouvoir les étudier car plus nombreux."
   ]
  },
  {
   "cell_type": "markdown",
   "id": "7416f9b6",
   "metadata": {
    "slideshow": {
     "slide_type": "subslide"
    }
   },
   "source": [
    "### 4.3. Vérification des outliers <a class=\"anchor\" id=\"4_3\"></a>"
   ]
  },
  {
   "cell_type": "code",
   "execution_count": 38,
   "id": "893fe432",
   "metadata": {
    "slideshow": {
     "slide_type": "-"
    }
   },
   "outputs": [
    {
     "name": "stdout",
     "output_type": "stream",
     "text": [
      "Le nombre d'outliers qui ont été vendus est de 10, pour 32 outliers totaux. \n",
      "Il y a donc 22 outliers qui n'ont jamais été achetés.\n"
     ]
    }
   ],
   "source": [
    "# Regardons plus en détails ces outliers en regardant si ces bouteilles sont vendus\n",
    "produits_vendus = outliers_IQR[outliers_IQR['total_sales'] != 0].groupby('sku')['total_sales'].count()\n",
    "print(f\"Le nombre d'outliers qui ont été vendus est de {len(produits_vendus)}, pour {len(outliers_IQR)} outliers totaux. \\nIl y a donc {len(outliers_IQR)-len(produits_vendus)} outliers qui n'ont jamais été achetés.\")"
   ]
  },
  {
   "cell_type": "code",
   "execution_count": 39,
   "id": "8e32c72f",
   "metadata": {
    "slideshow": {
     "slide_type": "subslide"
    }
   },
   "outputs": [
    {
     "name": "stdout",
     "output_type": "stream",
     "text": [
      "Sur les 22 produits qui n'ont jamais été achetés, 2 sont en rupture de stock. Il est donc normal que ces bouteilles ne générent pas de chiffre d'affaires.\n"
     ]
    }
   ],
   "source": [
    "# Sur les 22 outliers non vendus, regardons combien sont en rupture de stock.\n",
    "produits_non_vendus = outliers_IQR[(outliers_IQR['total_sales'] > 0) & (outliers_IQR['stock_status'] == 'outofstock')].groupby('sku')['total_sales'].count()\n",
    "print(f\"Sur les 22 produits qui n'ont jamais été achetés, {len(produits_non_vendus)} sont en rupture de stock. Il est donc normal que ces bouteilles ne générent pas de chiffre d'affaires.\")"
   ]
  },
  {
   "cell_type": "code",
   "execution_count": 40,
   "id": "ebb8adca",
   "metadata": {
    "slideshow": {
     "slide_type": "subslide"
    }
   },
   "outputs": [
    {
     "name": "stdout",
     "output_type": "stream",
     "text": [
      "Ces bouteilles représentent 1.57% des ventes totales de bouteilles.\n"
     ]
    }
   ],
   "source": [
    "# Regardons le nombre de ventes des bouteilles 'outliers' par rapport au nombre total de ventes\n",
    "nb_ventes = erp_web['total_sales'].sum()\n",
    "nb_ventes_outliers = outliers_IQR['total_sales'].sum()\n",
    "proportion_ventes_outliers = round((nb_ventes_outliers/nb_ventes)*100,2)\n",
    "print(f'Ces bouteilles représentent {proportion_ventes_outliers}% des ventes totales de bouteilles.')"
   ]
  },
  {
   "cell_type": "code",
   "execution_count": 41,
   "id": "e167f8d1",
   "metadata": {
    "slideshow": {
     "slide_type": "-"
    }
   },
   "outputs": [
    {
     "name": "stdout",
     "output_type": "stream",
     "text": [
      "Le chiffre d'affaires généré par ces bouteilles est de 6970.0€, ce qui représente 9.88% du chiffre d'affaires total.\n"
     ]
    }
   ],
   "source": [
    "# Calculons le chiffre d'affaires généré par les 10 bouteilles qui ont été vendues\n",
    "ca_outliers = outliers_IQR[\"Chiffre d'affaires\"].sum()\n",
    "print(f\"Le chiffre d'affaires généré par ces bouteilles est de {ca_outliers}€, ce qui représente {round((ca_outliers/ca_total)*100,2)}% du chiffre d'affaires total.\")"
   ]
  },
  {
   "cell_type": "markdown",
   "id": "81dd5328",
   "metadata": {
    "slideshow": {
     "slide_type": "slide"
    }
   },
   "source": [
    "## 5. Conclusion <a class=\"anchor\" id=\"5\"></a>"
   ]
  },
  {
   "cell_type": "code",
   "execution_count": 42,
   "id": "c1885c8e",
   "metadata": {
    "slideshow": {
     "slide_type": "subslide"
    }
   },
   "outputs": [
    {
     "data": {
      "image/png": "[encoded data removed]",
      "text/plain": [
       "<Figure size 1600x600 with 2 Axes>"
      ]
     },
     "metadata": {},
     "output_type": "display_data"
    }
   ],
   "source": [
    "# Création de 2 dataframes pour différencier les outliers vendus des outliers non-vendus\n",
    "outliers_vendus = outliers_IQR.loc[outliers_IQR['total_sales'] > 0]\n",
    "outliers_non_vendus = outliers_IQR.loc[outliers_IQR['total_sales'] == 0]\n",
    "\n",
    "# Regardons l'étendue des prix des outliers vendus par rapport à ceux qui ne sont pas vendus\n",
    "fig, (ax1, ax2) = plt.subplots(2, 1, figsize=(16, 6))\n",
    "sns.boxplot(x=outliers_vendus['price'], ax=ax1, color='lightblue')\n",
    "sns.boxplot(x=outliers_non_vendus['price'], ax=ax2, color='orange')\n",
    "sns.set_style('whitegrid')\n",
    "plt.subplots_adjust(hspace=0.5)\n",
    "ax1.set_xlim(80, 230)\n",
    "ax2.set_xlim(80, 230)\n",
    "ax1.set_title(\"Prix des outliers vendus\", fontsize=16, color='blue')\n",
    "ax2.set_title(\"Prix des outliers non vendus\", fontsize=16, color='orange')\n",
    "ax1.set_xlabel(\"Prix des bouteilles (en €)\", fontsize=11)\n",
    "ax2.set_xlabel(\"Prix des bouteilles (en €)\", fontsize=11)\n",
    "plt.suptitle('Répartition des prix des outliers', fontsize=22, y=1)\n",
    "plt.show()"
   ]
  },
  {
   "cell_type": "markdown",
   "id": "3d603b62",
   "metadata": {
    "slideshow": {
     "slide_type": "subslide"
    }
   },
   "source": [
    "Les prix des outliers non vendus se situent dans la fourchette des prix des outliers vendus. Nous pouvons donc dire que les prix \"élevés\" de ces bouteilles ne semblent pas incohérents. \n",
    "De plus, le chiffre d'affaires de ces bouteilles représente quasiment 10% du chiffre d'affaires total, donc supprimé ces outliers reviendrait à supprimer cette partie du chiffre d'affaires. "
   ]
  }
 ],
 "metadata": {
  "celltoolbar": "Diaporama",
  "kernelspec": {
   "display_name": "Python 3 (ipykernel)",
   "language": "python",
   "name": "python3"
  },
  "language_info": {
   "codemirror_mode": {
    "name": "ipython",
    "version": 3
   },
   "file_extension": ".py",
   "mimetype": "text/x-python",
   "name": "python",
   "nbconvert_exporter": "python",
   "pygments_lexer": "ipython3",
   "version": "3.9.16"
  }
 },
 "nbformat": 4,
 "nbformat_minor": 5
}
